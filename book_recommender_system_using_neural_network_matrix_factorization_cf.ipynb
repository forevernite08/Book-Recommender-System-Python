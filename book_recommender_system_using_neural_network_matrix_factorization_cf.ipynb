{
 "cells": [
  {
   "cell_type": "markdown",
   "metadata": {},
   "source": [
    "# Overview\n",
    "\n",
    "In this project, I will use Neural Network Matrix Factorization with Keras to predict the ratings for the books in [Book-Crossing Datasets](http://www2.informatik.uni-freiburg.de/~cziegler/BX/).\n",
    "\n",
    "\n",
    "## Neural Collaborative Filtering (NCF)\n",
    "This notebook will present a general framework named NCF, short for Neural network-based Collaborative Filtering. NCF is generic and can express and generalize matrix factorization under its framework. To supercharge NCF modelling with non-linearities, I will leverage a multi-layer perceptron to learn the user-item interaction function. Extensive experiments on real-world datasets show significant improvements of our proposed NCF framework over the state-of-the-art methods. Empirical evidence shows that using deeper layers of neural networks offers better recommendation performance.\n",
    "\n",
    "\n",
    "## Project Content\n",
    "1. Load data\n",
    "2. Data Analysis and Visualization\n",
    " - investigate users data\n",
    " - investigate books data\n",
    " - investigate ratings data\n",
    " - unify dataset (users,books,ratings)\n",
    "3. Train KNN model for item-based collaborative filtering\n",
    "4. Use this trained model to make book recommendations to myself\n",
    "5. Deep dive into the bottleneck of item-based collaborative filtering.\n",
    " - cold start problem\n",
    " - data sparsity problem\n",
    " - popular bias (how to recommend products from the tail of product distribution)\n",
    " - scalability bottleneck\n",
    "6. Further study"
   ]
  },
  {
   "cell_type": "code",
   "execution_count": 1,
   "metadata": {},
   "outputs": [],
   "source": [
    "import os\n",
    "import time\n",
    "import warnings\n",
    "import pickle\n",
    "\n",
    "# data science imports\n",
    "import math\n",
    "import numpy as np\n",
    "import pandas as pd\n",
    "\n",
    "# sklearn imports\n",
    "from sklearn.model_selection import train_test_split\n",
    "\n",
    "# keras/tensorflow imports\n",
    "from tensorflow.keras.layers import Input, Embedding, Flatten, Dense, Multiply, Concatenate\n",
    "from tensorflow.keras.regularizers import l2\n",
    "from tensorflow.keras.models import Model\n",
    "# from tensorflow.keras.optimizers import Adagrad, Adam, SGD, RMSprop\n",
    "from tensorflow.keras.callbacks import EarlyStopping, ModelCheckpoint\n",
    "import tensorflow.keras.backend as K\n",
    "from tensorflow.keras.models import load_model\n",
    "\n",
    "# visualization imports\n",
    "import seaborn as sns\n",
    "import matplotlib.pyplot as plt\n",
    "plt.style.use('ggplot')\n",
    "warnings.filterwarnings('ignore') # Turn off warnings\n",
    "%matplotlib inline"
   ]
  },
  {
   "cell_type": "markdown",
   "metadata": {},
   "source": [
    "## 1. Load Data"
   ]
  },
  {
   "cell_type": "code",
   "execution_count": 2,
   "metadata": {},
   "outputs": [],
   "source": [
    "# The dataset is comprised of three separate tables: BX-Users, BX-Books, and BX-Book-Ratings.\n",
    "# Each is separated by semi-colons, and the first row contains the column headers.\n",
    "users = pd.read_csv('data/BX-Users.csv', sep=';', error_bad_lines=False, warn_bad_lines=False, encoding=\"latin-1\")\n",
    "books = pd.read_csv('data/BX-Books.csv', sep=';', error_bad_lines=False, warn_bad_lines=False, encoding=\"latin-1\")\n",
    "book_ratings = pd.read_csv('data/BX-Book-Ratings.csv', sep=';', error_bad_lines=False, warn_bad_lines=False, encoding=\"latin-1\")"
   ]
  },
  {
   "cell_type": "markdown",
   "metadata": {},
   "source": [
    "**Note:** The 'BX-Books' csv had multiple cases of semi-colons in the book titles which were manually cleaned to ensure proper dataframe importing. Mostly were changed to colons or commas. Also, the symbol '&amp;' appeared a lot (presumably an ampersand character), which was changed to just '&amp'."
   ]
  },
  {
   "cell_type": "code",
   "execution_count": 3,
   "metadata": {},
   "outputs": [
    {
     "name": "stdout",
     "output_type": "stream",
     "text": [
      "<class 'pandas.core.frame.DataFrame'>\n",
      "RangeIndex: 278858 entries, 0 to 278857\n",
      "Data columns (total 3 columns):\n",
      "User-ID     278858 non-null int64\n",
      "Location    278858 non-null object\n",
      "Age         168096 non-null float64\n",
      "dtypes: float64(1), int64(1), object(1)\n",
      "memory usage: 6.4+ MB\n"
     ]
    }
   ],
   "source": [
    "users.info()"
   ]
  },
  {
   "cell_type": "code",
   "execution_count": 4,
   "metadata": {},
   "outputs": [
    {
     "name": "stdout",
     "output_type": "stream",
     "text": [
      "<class 'pandas.core.frame.DataFrame'>\n",
      "RangeIndex: 271360 entries, 0 to 271359\n",
      "Data columns (total 8 columns):\n",
      "ISBN                   271360 non-null object\n",
      "Book-Title             271360 non-null object\n",
      "Book-Author            271359 non-null object\n",
      "Year-Of-Publication    271360 non-null object\n",
      "Publisher              271358 non-null object\n",
      "Image-URL-S            271360 non-null object\n",
      "Image-URL-M            271360 non-null object\n",
      "Image-URL-L            271357 non-null object\n",
      "dtypes: object(8)\n",
      "memory usage: 16.6+ MB\n"
     ]
    }
   ],
   "source": [
    "books.info()"
   ]
  },
  {
   "cell_type": "code",
   "execution_count": 5,
   "metadata": {},
   "outputs": [
    {
     "name": "stdout",
     "output_type": "stream",
     "text": [
      "<class 'pandas.core.frame.DataFrame'>\n",
      "RangeIndex: 1149780 entries, 0 to 1149779\n",
      "Data columns (total 3 columns):\n",
      "User-ID        1149780 non-null int64\n",
      "ISBN           1149780 non-null object\n",
      "Book-Rating    1149780 non-null int64\n",
      "dtypes: int64(2), object(1)\n",
      "memory usage: 26.3+ MB\n"
     ]
    }
   ],
   "source": [
    "book_ratings.info()"
   ]
  },
  {
   "cell_type": "code",
   "execution_count": 6,
   "metadata": {},
   "outputs": [
    {
     "name": "stdout",
     "output_type": "stream",
     "text": [
      "Users: 278858\n",
      "Books: 271360\n",
      "Ratings: 1149780\n"
     ]
    }
   ],
   "source": [
    "# checking the number of records for users, books and rating\n",
    "print(f'Users: {len(users)}\\nBooks: {len(books)}\\nRatings: {len(book_ratings)}')"
   ]
  },
  {
   "cell_type": "markdown",
   "metadata": {},
   "source": [
    "## 2. Data Analysis and Visualization"
   ]
  },
  {
   "cell_type": "markdown",
   "metadata": {},
   "source": [
    "#### 1. Investigate Users Data"
   ]
  },
  {
   "cell_type": "markdown",
   "metadata": {},
   "source": [
    "I will first tidy up the column names. (replacing '-' caracter with '_')"
   ]
  },
  {
   "cell_type": "code",
   "execution_count": 7,
   "metadata": {},
   "outputs": [
    {
     "name": "stdout",
     "output_type": "stream",
     "text": [
      "<class 'pandas.core.frame.DataFrame'>\n",
      "RangeIndex: 278858 entries, 0 to 278857\n",
      "Data columns (total 3 columns):\n",
      "user_id     278858 non-null int64\n",
      "location    278858 non-null object\n",
      "age         168096 non-null float64\n",
      "dtypes: float64(1), int64(1), object(1)\n",
      "memory usage: 6.4+ MB\n"
     ]
    }
   ],
   "source": [
    "# replacing '-' caracter with '_'\n",
    "users.columns = users.columns.str.strip().str.lower().str.replace('-', '_')\n",
    "users.info()"
   ]
  },
  {
   "cell_type": "code",
   "execution_count": 8,
   "metadata": {},
   "outputs": [
    {
     "name": "stdout",
     "output_type": "stream",
     "text": [
      "No. of unique user_id entries: 278858 | Total user_id entries: 278858\n"
     ]
    }
   ],
   "source": [
    "# checking the number of unique user_id, comparing with total number of records of user_id \n",
    "uniq_users = users.user_id.nunique()\n",
    "all_users = users.user_id.count()\n",
    "print(f'No. of unique user_id entries: {uniq_users} | Total user_id entries: {all_users}')"
   ]
  },
  {
   "cell_type": "code",
   "execution_count": 9,
   "metadata": {},
   "outputs": [
    {
     "data": {
      "text/plain": [
       "user_id       int64\n",
       "location     object\n",
       "age         float64\n",
       "dtype: object"
      ]
     },
     "execution_count": 9,
     "metadata": {},
     "output_type": "execute_result"
    }
   ],
   "source": [
    "# checking the data types of users\n",
    "users.dtypes"
   ]
  },
  {
   "cell_type": "markdown",
   "metadata": {},
   "source": [
    "**Note:**\n",
    "The 'User-ID' field is of type 'integer', 'Location' of 'strings', and the 'Age' values are 'floats'.\n",
    "\n",
    "Therefore, ages can probably be changed to ints. Let's take a look at the values first."
   ]
  },
  {
   "cell_type": "code",
   "execution_count": 10,
   "metadata": {},
   "outputs": [
    {
     "name": "stdout",
     "output_type": "stream",
     "text": [
      "[nan, 0.0, 1.0, 2.0, 3.0, 4.0, 5.0, 6.0, 7.0, 8.0, 9.0, 10.0, 11.0, 12.0, 13.0, 14.0, 15.0, 16.0, 17.0, 18.0, 19.0, 20.0, 21.0, 22.0, 23.0, 24.0, 25.0, 26.0, 27.0, 28.0, 29.0, 30.0, 31.0, 32.0, 33.0, 34.0, 35.0, 36.0, 37.0, 38.0, 39.0, 40.0, 41.0, 42.0, 43.0, 44.0, 45.0, 46.0, 47.0, 48.0, 49.0, 50.0, 51.0, 52.0, 53.0, 54.0, 55.0, 56.0, 57.0, 58.0, 59.0, 60.0, 61.0, 62.0, 63.0, 64.0, 65.0, 66.0, 67.0, 68.0, 69.0, 70.0, 71.0, 72.0, 73.0, 74.0, 75.0, 76.0, 77.0, 78.0, 79.0, 80.0, 81.0, 82.0, 83.0, 84.0, 85.0, 86.0, 87.0, 88.0, 89.0, 90.0, 91.0, 92.0, 93.0, 94.0, 95.0, 96.0, 97.0, 98.0, 99.0, 100.0, 101.0, 102.0, 103.0, 104.0, 105.0, 106.0, 107.0, 108.0, 109.0, 110.0, 111.0, 113.0, 114.0, 115.0, 116.0, 118.0, 119.0, 123.0, 124.0, 127.0, 128.0, 132.0, 133.0, 136.0, 137.0, 138.0, 140.0, 141.0, 143.0, 146.0, 147.0, 148.0, 151.0, 152.0, 156.0, 157.0, 159.0, 162.0, 168.0, 172.0, 175.0, 183.0, 186.0, 189.0, 199.0, 200.0, 201.0, 204.0, 207.0, 208.0, 209.0, 210.0, 212.0, 219.0, 220.0, 223.0, 226.0, 228.0, 229.0, 230.0, 231.0, 237.0, 239.0, 244.0]\n"
     ]
    }
   ],
   "source": [
    "print(sorted(users.age.unique()))"
   ]
  },
  {
   "cell_type": "markdown",
   "metadata": {},
   "source": [
    "The age range goes from 0 to 244 years old! Obviously this cannot be correct; I'll set all ages less than 5 and older than 100 to NaN to try keep them realistic."
   ]
  },
  {
   "cell_type": "code",
   "execution_count": 11,
   "metadata": {},
   "outputs": [
    {
     "name": "stdout",
     "output_type": "stream",
     "text": [
      "[nan, 5.0, 6.0, 7.0, 8.0, 9.0, 10.0, 11.0, 12.0, 13.0, 14.0, 15.0, 16.0, 17.0, 18.0, 19.0, 20.0, 21.0, 22.0, 23.0, 24.0, 25.0, 26.0, 27.0, 28.0, 29.0, 30.0, 31.0, 32.0, 33.0, 34.0, 35.0, 36.0, 37.0, 38.0, 39.0, 40.0, 41.0, 42.0, 43.0, 44.0, 45.0, 46.0, 47.0, 48.0, 49.0, 50.0, 51.0, 52.0, 53.0, 54.0, 55.0, 56.0, 57.0, 58.0, 59.0, 60.0, 61.0, 62.0, 63.0, 64.0, 65.0, 66.0, 67.0, 68.0, 69.0, 70.0, 71.0, 72.0, 73.0, 74.0, 75.0, 76.0, 77.0, 78.0, 79.0, 80.0, 81.0, 82.0, 83.0, 84.0, 85.0, 86.0, 87.0, 88.0, 89.0, 90.0, 91.0, 92.0, 93.0, 94.0, 95.0, 96.0, 97.0, 98.0, 99.0, 100.0]\n"
     ]
    }
   ],
   "source": [
    "users.loc[(users.age<5) | (users.age>100), 'age'] = np.nan\n",
    "print(sorted(users.age.unique()))"
   ]
  },
  {
   "cell_type": "markdown",
   "metadata": {},
   "source": [
    "Now the ages go from 5 to 100, with missing values entered as NaN. Let's plot this to see how they are distributed."
   ]
  },
  {
   "cell_type": "code",
   "execution_count": 12,
   "metadata": {},
   "outputs": [
    {
     "data": {
      "image/png": "[encoded data removed]",
      "text/plain": [
       "<Figure size 864x360 with 1 Axes>"
      ]
     },
     "metadata": {
      "needs_background": "light"
     },
     "output_type": "display_data"
    }
   ],
   "source": [
    "# First create a histogram of the Age field\n",
    "ax = users.age.hist(bins=10, figsize=(12,5))\n",
    "ax.set_xlabel('Age')\n",
    "ax.set_ylabel('counts')\n",
    "ax.set_xticks(range(0,110,10))\n",
    "plt.show()"
   ]
  },
  {
   "cell_type": "markdown",
   "metadata": {},
   "source": [
    "Below is the same plot without any binning - i.e. each age is represented individually."
   ]
  },
  {
   "cell_type": "code",
   "execution_count": 13,
   "metadata": {},
   "outputs": [
    {
     "data": {
      "image/png": "[encoded data removed]",
      "text/plain": [
       "<Figure size 1440x720 with 1 Axes>"
      ]
     },
     "metadata": {
      "needs_background": "light"
     },
     "output_type": "display_data"
    }
   ],
   "source": [
    "u = users.age.value_counts().sort_index()\n",
    "plt.figure(figsize=(20, 10))\n",
    "plt.rcParams.update({'font.size': 15}) # Set larger plot font size\n",
    "plt.bar(u.index, u.values)\n",
    "plt.xlabel('Age')\n",
    "plt.ylabel('counts')\n",
    "plt.show()"
   ]
  },
  {
   "cell_type": "markdown",
   "metadata": {},
   "source": [
    "That is more clear to me! It seems that most of our reviewers are in their late 20s to early 30s.\n",
    "\n",
    "How many missing Age's do we now have in the dataset?"
   ]
  },
  {
   "cell_type": "code",
   "execution_count": 14,
   "metadata": {},
   "outputs": [
    {
     "name": "stdout",
     "output_type": "stream",
     "text": [
      "There are 112010 empty age values in our set of 278858 users (i.e. 40.17%).\n"
     ]
    }
   ],
   "source": [
    "age_null = users.age.isnull().sum() # Sums up the 1's returned by the isnull() mask\n",
    "all_users = users.user_id.count() # Counts the number of cells in the series - excludes NaNs!\n",
    "print(f'There are {age_null} empty age values in our set of {all_users} users (i.e. {(age_null/all_users)*100:.2f}%).')"
   ]
  },
  {
   "cell_type": "markdown",
   "metadata": {},
   "source": [
    "Next, can we expand the 'Location' field to break it up into 'City', 'State', and 'Country'."
   ]
  },
  {
   "cell_type": "code",
   "execution_count": 15,
   "metadata": {},
   "outputs": [],
   "source": [
    "# Note: Used Pandas Series.str.split method as it has an 'expand' parameter which can handle None cases\n",
    "user_location_expanded = users.location.str.split(',', 2, expand=True)\n",
    "user_location_expanded.columns = ['city', 'state', 'country']\n",
    "users = users.join(user_location_expanded)"
   ]
  },
  {
   "cell_type": "code",
   "execution_count": 16,
   "metadata": {},
   "outputs": [
    {
     "data": {
      "text/html": [
       "<div>\n",
       "<style scoped>\n",
       "    .dataframe tbody tr th:only-of-type {\n",
       "        vertical-align: middle;\n",
       "    }\n",
       "\n",
       "    .dataframe tbody tr th {\n",
       "        vertical-align: top;\n",
       "    }\n",
       "\n",
       "    .dataframe thead th {\n",
       "        text-align: right;\n",
       "    }\n",
       "</style>\n",
       "<table border=\"1\" class=\"dataframe\">\n",
       "  <thead>\n",
       "    <tr style=\"text-align: right;\">\n",
       "      <th></th>\n",
       "      <th>user_id</th>\n",
       "      <th>age</th>\n",
       "      <th>city</th>\n",
       "      <th>state</th>\n",
       "      <th>country</th>\n",
       "    </tr>\n",
       "  </thead>\n",
       "  <tbody>\n",
       "    <tr>\n",
       "      <td>0</td>\n",
       "      <td>1</td>\n",
       "      <td>NaN</td>\n",
       "      <td>nyc</td>\n",
       "      <td>new york</td>\n",
       "      <td>usa</td>\n",
       "    </tr>\n",
       "    <tr>\n",
       "      <td>1</td>\n",
       "      <td>2</td>\n",
       "      <td>18.0</td>\n",
       "      <td>stockton</td>\n",
       "      <td>california</td>\n",
       "      <td>usa</td>\n",
       "    </tr>\n",
       "    <tr>\n",
       "      <td>2</td>\n",
       "      <td>3</td>\n",
       "      <td>NaN</td>\n",
       "      <td>moscow</td>\n",
       "      <td>yukon territory</td>\n",
       "      <td>russia</td>\n",
       "    </tr>\n",
       "    <tr>\n",
       "      <td>3</td>\n",
       "      <td>4</td>\n",
       "      <td>17.0</td>\n",
       "      <td>porto</td>\n",
       "      <td>v.n.gaia</td>\n",
       "      <td>portugal</td>\n",
       "    </tr>\n",
       "    <tr>\n",
       "      <td>4</td>\n",
       "      <td>5</td>\n",
       "      <td>NaN</td>\n",
       "      <td>farnborough</td>\n",
       "      <td>hants</td>\n",
       "      <td>united kingdom</td>\n",
       "    </tr>\n",
       "  </tbody>\n",
       "</table>\n",
       "</div>"
      ],
      "text/plain": [
       "   user_id   age         city             state          country\n",
       "0        1   NaN          nyc          new york              usa\n",
       "1        2  18.0     stockton        california              usa\n",
       "2        3   NaN       moscow   yukon territory           russia\n",
       "3        4  17.0        porto          v.n.gaia         portugal\n",
       "4        5   NaN  farnborough             hants   united kingdom"
      ]
     },
     "execution_count": 16,
     "metadata": {},
     "output_type": "execute_result"
    }
   ],
   "source": [
    "users.drop(columns=['location'], inplace=True)\n",
    "users.head()"
   ]
  },
  {
   "cell_type": "markdown",
   "metadata": {},
   "source": [
    "Let's take a quick look at these Location-derived fields."
   ]
  },
  {
   "cell_type": "code",
   "execution_count": 17,
   "metadata": {},
   "outputs": [
    {
     "name": "stdout",
     "output_type": "stream",
     "text": [
      "The 10 cities with the most users are:\n",
      "london       4105\n",
      "barcelona    2664\n",
      "toronto      2342\n",
      "madrid       1933\n",
      "sydney       1884\n",
      "portland     1869\n",
      "melbourne    1863\n",
      "vancouver    1699\n",
      "chicago      1566\n",
      "seattle      1541\n",
      "Name: city, dtype: int64\n"
     ]
    }
   ],
   "source": [
    "top_cities = users.city.value_counts()[:10]\n",
    "print(f'The 10 cities with the most users are:\\n{top_cities}')"
   ]
  },
  {
   "cell_type": "code",
   "execution_count": 18,
   "metadata": {},
   "outputs": [
    {
     "name": "stdout",
     "output_type": "stream",
     "text": [
      "The 10 countries with the most users are:\n",
      " usa               139183\n",
      " canada             21556\n",
      " united kingdom     18286\n",
      " germany            17021\n",
      " spain              13088\n",
      " australia          11719\n",
      " italy              11238\n",
      "                     4561\n",
      " france              3440\n",
      " portugal            3305\n",
      "Name: country, dtype: int64\n"
     ]
    }
   ],
   "source": [
    "top_countries = users.country.value_counts()[:10]\n",
    "print(f'The 10 countries with the most users are:\\n{top_countries}')"
   ]
  },
  {
   "cell_type": "markdown",
   "metadata": {},
   "source": [
    "I can see that an empty 'Country' field is in the top 10 most common entries!"
   ]
  },
  {
   "cell_type": "code",
   "execution_count": 19,
   "metadata": {
    "scrolled": true
   },
   "outputs": [
    {
     "name": "stdout",
     "output_type": "stream",
     "text": [
      "There are 4561 entries with empty strings, and 2 NaN entries in the Country field\n"
     ]
    }
   ],
   "source": [
    "empty_string_country = users[users.country == ''].country.count()\n",
    "nan_country = users.country.isnull().sum()\n",
    "print(f'There are {empty_string_country} entries with empty strings, and {nan_country} NaN entries in the Country field')"
   ]
  },
  {
   "cell_type": "markdown",
   "metadata": {},
   "source": [
    "Now, I should probably change these empty strings to NaNs."
   ]
  },
  {
   "cell_type": "code",
   "execution_count": 20,
   "metadata": {},
   "outputs": [],
   "source": [
    "users.country.replace('', np.nan, inplace=True)"
   ]
  },
  {
   "cell_type": "markdown",
   "metadata": {},
   "source": [
    "#### 2. Investigate Books Data"
   ]
  },
  {
   "cell_type": "markdown",
   "metadata": {},
   "source": [
    "I will first tidy up the column names (replacing '-' caracter with '_'). And drop the image-url link columns."
   ]
  },
  {
   "cell_type": "code",
   "execution_count": 21,
   "metadata": {},
   "outputs": [
    {
     "name": "stdout",
     "output_type": "stream",
     "text": [
      "<class 'pandas.core.frame.DataFrame'>\n",
      "RangeIndex: 271360 entries, 0 to 271359\n",
      "Data columns (total 5 columns):\n",
      "isbn                   271360 non-null object\n",
      "book_title             271360 non-null object\n",
      "book_author            271359 non-null object\n",
      "year_of_publication    271360 non-null object\n",
      "publisher              271358 non-null object\n",
      "dtypes: object(5)\n",
      "memory usage: 10.4+ MB\n"
     ]
    }
   ],
   "source": [
    "# replacing '-' caracter with '_'\n",
    "books.columns = books.columns.str.strip().str.lower().str.replace('-', '_') # clean column names\n",
    "books.drop(columns=['image_url_s', 'image_url_m', 'image_url_l'], inplace=True) # drop image-url columns\n",
    "books.info()"
   ]
  },
  {
   "cell_type": "markdown",
   "metadata": {},
   "source": [
    "What about the 'type' of each field? We probably want Year of Publication to be ints or floats, and the rest to be strings ('object'). Note: The ISBN numbers may contain some letters, so we CAN'T convert them to numeric values. Will leave as strings."
   ]
  },
  {
   "cell_type": "code",
   "execution_count": 22,
   "metadata": {},
   "outputs": [
    {
     "data": {
      "text/plain": [
       "isbn                   object\n",
       "book_title             object\n",
       "book_author            object\n",
       "year_of_publication    object\n",
       "publisher              object\n",
       "dtype: object"
      ]
     },
     "execution_count": 22,
     "metadata": {},
     "output_type": "execute_result"
    }
   ],
   "source": [
    "books.dtypes"
   ]
  },
  {
   "cell_type": "code",
   "execution_count": 23,
   "metadata": {},
   "outputs": [],
   "source": [
    "# Convert years to float\n",
    "books.year_of_publication = pd.to_numeric(books.year_of_publication, errors='coerce')"
   ]
  },
  {
   "cell_type": "code",
   "execution_count": 24,
   "metadata": {},
   "outputs": [
    {
     "name": "stdout",
     "output_type": "stream",
     "text": [
      "There are 4618 entries as '0', and 3 NaN entries in the Year of Publication field\n"
     ]
    }
   ],
   "source": [
    "# Check for 0's or NaNs in Year of Publication\n",
    "zero_yr = books[books.year_of_publication == 0].year_of_publication.count()\n",
    "nan_yr = books.year_of_publication.isnull().sum()\n",
    "print(f'There are {zero_yr} entries as \\'0\\', and {nan_yr} NaN entries in the Year of Publication field')"
   ]
  },
  {
   "cell_type": "code",
   "execution_count": 25,
   "metadata": {},
   "outputs": [],
   "source": [
    "# Replace all years of zero with NaN\n",
    "books.year_of_publication.replace(0, np.nan, inplace=True)"
   ]
  },
  {
   "cell_type": "code",
   "execution_count": 26,
   "metadata": {},
   "outputs": [
    {
     "data": {
      "image/png": "[encoded data removed]",
      "text/plain": [
       "<Figure size 1440x720 with 1 Axes>"
      ]
     },
     "metadata": {
      "needs_background": "light"
     },
     "output_type": "display_data"
    }
   ],
   "source": [
    "yr = books.year_of_publication.value_counts().sort_index()\n",
    "yr = yr.where(yr>5) # filter out counts less than 5\n",
    "plt.figure(figsize=(20, 10))\n",
    "plt.rcParams.update({'font.size': 15}) # Set larger plot font size\n",
    "plt.bar(yr.index, yr.values)\n",
    "plt.xlabel('Year of Publication')\n",
    "plt.ylabel('counts')\n",
    "plt.show()"
   ]
  },
  {
   "cell_type": "markdown",
   "metadata": {},
   "source": [
    "Note that in the plot above we filtered out counts less than 5, as there are a few books in the dataset with publication years in the 1300s, and a few in the future (?!). The plot above show the general trend that more recent books are much more frequent.\n",
    "\n",
    "Let's take a look at some of those 'outlier' books."
   ]
  },
  {
   "cell_type": "code",
   "execution_count": 27,
   "metadata": {},
   "outputs": [
    {
     "name": "stdout",
     "output_type": "stream",
     "text": [
      "Historical books:\n",
      "                                               book_title  year_of_publication\n",
      "171817  Complete Works 10 Volumes [2,6,7,8,9] (Notable...               1806.0\n",
      "227531                   Dalan-i bihisht (Dastan-i Irani)               1378.0\n",
      "245607  Hugh Wynne, Free Quaker (2 Volumes (BCL1-PS Am...               1897.0\n",
      "253750                                       Tasht-i khun               1376.0\n",
      "\n",
      "\n",
      "Future books:\n",
      "                                               book_title  year_of_publication\n",
      "30010                                          The Royals               2020.0\n",
      "37487   MY TEACHER FRIED MY BRAINS (RACK SIZE) (MY TEA...               2030.0\n",
      "55676   MY TEACHER FLUNKED THE PLANET (RACK SIZE) (MY ...               2030.0\n",
      "78168                                    Crossing America               2030.0\n",
      "80264   Alice's Adventures in Wonderland and Through t...               2050.0\n",
      "92156                     Edgar Allen Poe Collected Poems               2020.0\n",
      "97826       Outline of European Architecture (Pelican S.)               2050.0\n",
      "116053                       Three Plays of Eugene Oneill               2038.0\n",
      "118294        Das groÃ?Â?e BÃ?Â¶se- MÃ?Â¤dchen- Lesebuch.               2026.0\n",
      "183769                                              Heidi               2021.0\n",
      "192993  Field Guide to the Birds of North America, 3rd...               2030.0\n",
      "228173       FOREST PEOPLE (Touchstone Books (Hardcover))               2030.0\n",
      "238817                                LOOK HOMEWARD ANGEL               2020.0\n",
      "240169            In Our Time: Stories (Scribner Classic)               2030.0\n",
      "246842                                              CLOUT               2024.0\n",
      "255409                               To Have and Have Not               2037.0\n",
      "260974        FOOTBALL SUPER TEAMS : FOOTBALL SUPER TEAMS               2030.0\n"
     ]
    }
   ],
   "source": [
    "historical_books = books[books.year_of_publication<1900] # create df of old books\n",
    "books_from_the_future = books[books.year_of_publication>2019] # create df of books with publication yrs in the future!\n",
    "\n",
    "hist_books_mini = historical_books[['book_title', 'year_of_publication']]\n",
    "future_books_mini = books_from_the_future[['book_title', 'year_of_publication']]\n",
    "print(f'Historical books:\\n{hist_books_mini}')\n",
    "print('\\n')\n",
    "print(f'Future books:\\n{future_books_mini}')"
   ]
  },
  {
   "cell_type": "markdown",
   "metadata": {},
   "source": [
    "I think we can probably omit the 'historical_books' as they may potentially skew the model and do not seem to have much relevance to the wider userbase.\n",
    "\n",
    "Some of the 'future' books actually appear to be errors (e.g. Alice in Wonderland, Edgar Allen Poe, etc.)... Perhaps they were supposed to be e.g. 1950 instead of 2050? However, instead of investigating this further, since there are <20 books here I will simply remove them from the 'books' table."
   ]
  },
  {
   "cell_type": "code",
   "execution_count": 28,
   "metadata": {},
   "outputs": [
    {
     "name": "stdout",
     "output_type": "stream",
     "text": [
      "Length of books dataset before removal: 271360\n",
      "Length of books dataset after removal: 271339\n"
     ]
    }
   ],
   "source": [
    "print(f'Length of books dataset before removal: {len(books)}')\n",
    "books = books.loc[~(books.isbn.isin(historical_books.isbn))] # remove historical books\n",
    "books = books.loc[~(books.isbn.isin(books_from_the_future.isbn))] # remove historical books\n",
    "print(f'Length of books dataset after removal: {len(books)}')"
   ]
  },
  {
   "cell_type": "markdown",
   "metadata": {},
   "source": [
    "We clean up the ampersand formatting in the Publisher field."
   ]
  },
  {
   "cell_type": "code",
   "execution_count": 29,
   "metadata": {},
   "outputs": [
    {
     "data": {
      "text/html": [
       "<div>\n",
       "<style scoped>\n",
       "    .dataframe tbody tr th:only-of-type {\n",
       "        vertical-align: middle;\n",
       "    }\n",
       "\n",
       "    .dataframe tbody tr th {\n",
       "        vertical-align: top;\n",
       "    }\n",
       "\n",
       "    .dataframe thead th {\n",
       "        text-align: right;\n",
       "    }\n",
       "</style>\n",
       "<table border=\"1\" class=\"dataframe\">\n",
       "  <thead>\n",
       "    <tr style=\"text-align: right;\">\n",
       "      <th></th>\n",
       "      <th>isbn</th>\n",
       "      <th>book_title</th>\n",
       "      <th>book_author</th>\n",
       "      <th>year_of_publication</th>\n",
       "      <th>publisher</th>\n",
       "    </tr>\n",
       "  </thead>\n",
       "  <tbody>\n",
       "    <tr>\n",
       "      <td>0</td>\n",
       "      <td>0195153448</td>\n",
       "      <td>Classical Mythology</td>\n",
       "      <td>Mark P. O. Morford</td>\n",
       "      <td>2002.0</td>\n",
       "      <td>Oxford University Press</td>\n",
       "    </tr>\n",
       "    <tr>\n",
       "      <td>1</td>\n",
       "      <td>0002005018</td>\n",
       "      <td>Clara Callan</td>\n",
       "      <td>Richard Bruce Wright</td>\n",
       "      <td>2001.0</td>\n",
       "      <td>HarperFlamingo Canada</td>\n",
       "    </tr>\n",
       "    <tr>\n",
       "      <td>2</td>\n",
       "      <td>0060973129</td>\n",
       "      <td>Decision in Normandy</td>\n",
       "      <td>Carlo D'Este</td>\n",
       "      <td>1991.0</td>\n",
       "      <td>HarperPerennial</td>\n",
       "    </tr>\n",
       "    <tr>\n",
       "      <td>3</td>\n",
       "      <td>0374157065</td>\n",
       "      <td>Flu: The Story of the Great Influenza Pandemic...</td>\n",
       "      <td>Gina Bari Kolata</td>\n",
       "      <td>1999.0</td>\n",
       "      <td>Farrar Straus Giroux</td>\n",
       "    </tr>\n",
       "    <tr>\n",
       "      <td>4</td>\n",
       "      <td>0393045218</td>\n",
       "      <td>The Mummies of Urumchi</td>\n",
       "      <td>E. J. W. Barber</td>\n",
       "      <td>1999.0</td>\n",
       "      <td>W. W. Norton &amp;; Company</td>\n",
       "    </tr>\n",
       "  </tbody>\n",
       "</table>\n",
       "</div>"
      ],
      "text/plain": [
       "         isbn                                         book_title  \\\n",
       "0  0195153448                                Classical Mythology   \n",
       "1  0002005018                                       Clara Callan   \n",
       "2  0060973129                               Decision in Normandy   \n",
       "3  0374157065  Flu: The Story of the Great Influenza Pandemic...   \n",
       "4  0393045218                             The Mummies of Urumchi   \n",
       "\n",
       "            book_author  year_of_publication                publisher  \n",
       "0    Mark P. O. Morford               2002.0  Oxford University Press  \n",
       "1  Richard Bruce Wright               2001.0    HarperFlamingo Canada  \n",
       "2          Carlo D'Este               1991.0          HarperPerennial  \n",
       "3      Gina Bari Kolata               1999.0     Farrar Straus Giroux  \n",
       "4       E. J. W. Barber               1999.0  W. W. Norton &; Company  "
      ]
     },
     "execution_count": 29,
     "metadata": {},
     "output_type": "execute_result"
    }
   ],
   "source": [
    "books.publisher = books.publisher.str.replace('&amp', '&', regex=False)\n",
    "books.head()"
   ]
  },
  {
   "cell_type": "markdown",
   "metadata": {},
   "source": [
    "Check that there are no duplicated book entries."
   ]
  },
  {
   "cell_type": "code",
   "execution_count": 30,
   "metadata": {},
   "outputs": [
    {
     "name": "stdout",
     "output_type": "stream",
     "text": [
      "No. of unique books: 271339 | All book entries: 271339\n"
     ]
    }
   ],
   "source": [
    "uniq_books = books.isbn.nunique()\n",
    "all_books = books.isbn.count()\n",
    "print(f'No. of unique books: {uniq_books} | All book entries: {all_books}')"
   ]
  },
  {
   "cell_type": "markdown",
   "metadata": {},
   "source": [
    "Let's look at the most frequent Publishing houses in the dataset."
   ]
  },
  {
   "cell_type": "code",
   "execution_count": 31,
   "metadata": {},
   "outputs": [
    {
     "name": "stdout",
     "output_type": "stream",
     "text": [
      "The 10 publishers with the most entries in the books table are:\n",
      "Harlequin                   7535\n",
      "Silhouette                  4220\n",
      "Pocket                      3905\n",
      "Ballantine Books            3783\n",
      "Bantam Books                3646\n",
      "Scholastic                  3159\n",
      "Simon &; Schuster           2969\n",
      "Penguin Books               2844\n",
      "Berkley Publishing Group    2771\n",
      "Warner Books                2727\n",
      "Name: publisher, dtype: int64\n"
     ]
    }
   ],
   "source": [
    "top_publishers = books.publisher.value_counts()[:10]\n",
    "print(f'The 10 publishers with the most entries in the books table are:\\n{top_publishers}')"
   ]
  },
  {
   "cell_type": "markdown",
   "metadata": {},
   "source": [
    "What about authors with the most entries?"
   ]
  },
  {
   "cell_type": "code",
   "execution_count": 32,
   "metadata": {},
   "outputs": [
    {
     "name": "stdout",
     "output_type": "stream",
     "text": [
      "The 10 authors with the most entries in the books table are:\n",
      "Agatha Christie        632\n",
      "William Shakespeare    567\n",
      "Stephen King           524\n",
      "Ann M. Martin          423\n",
      "Carolyn Keene          373\n",
      "Francine Pascal        372\n",
      "Isaac Asimov           330\n",
      "Nora Roberts           315\n",
      "Barbara Cartland       307\n",
      "Charles Dickens        302\n",
      "Name: book_author, dtype: int64\n"
     ]
    }
   ],
   "source": [
    "top_authors = books.book_author.value_counts()[:10]\n",
    "print(f'The 10 authors with the most entries in the books table are:\\n{top_authors}')"
   ]
  },
  {
   "cell_type": "markdown",
   "metadata": {},
   "source": [
    "We should search for empty or NaN values in these fields too."
   ]
  },
  {
   "cell_type": "code",
   "execution_count": 33,
   "metadata": {},
   "outputs": [
    {
     "name": "stdout",
     "output_type": "stream",
     "text": [
      "There are 0 entries with empty strings, and 2 NaN entries in the Publisher field\n"
     ]
    }
   ],
   "source": [
    "empty_string_publisher = books[books.publisher == ''].publisher.count()\n",
    "nan_publisher = books.publisher.isnull().sum()\n",
    "print(f'There are {empty_string_publisher} entries with empty strings, and {nan_publisher} NaN entries in the Publisher field')"
   ]
  },
  {
   "cell_type": "markdown",
   "metadata": {},
   "source": [
    "Great - no empty strings in the Publisher field, and only 2 NaNs."
   ]
  },
  {
   "cell_type": "code",
   "execution_count": 34,
   "metadata": {},
   "outputs": [
    {
     "name": "stdout",
     "output_type": "stream",
     "text": [
      "There are 0 entries with empty strings, and 1 NaN entries in the Author field\n"
     ]
    }
   ],
   "source": [
    "empty_string_author = books[books.book_author == ''].book_author.count()\n",
    "nan_author = books.book_author.isnull().sum()\n",
    "print(f'There are {empty_string_author} entries with empty strings, and {nan_author} NaN entries in the Author field')"
   ]
  },
  {
   "cell_type": "markdown",
   "metadata": {},
   "source": [
    "Cool, only 1 NaN in the Author field.\n",
    "\n",
    "Let's look at the titles."
   ]
  },
  {
   "cell_type": "code",
   "execution_count": 35,
   "metadata": {},
   "outputs": [
    {
     "name": "stdout",
     "output_type": "stream",
     "text": [
      "The 10 book titles with the most entries in the books table are:\n",
      "Selected Poems                    27\n",
      "Little Women                      24\n",
      "Wuthering Heights                 21\n",
      "Dracula                           20\n",
      "Adventures of Huckleberry Finn    20\n",
      "The Secret Garden                 20\n",
      "Jane Eyre                         19\n",
      "The Night Before Christmas        18\n",
      "Pride and Prejudice               18\n",
      "Great Expectations                17\n",
      "Name: book_title, dtype: int64\n"
     ]
    }
   ],
   "source": [
    "top_titles = books.book_title.value_counts()[:10]\n",
    "print(f'The 10 book titles with the most entries in the books table are:\\n{top_titles}')"
   ]
  },
  {
   "cell_type": "markdown",
   "metadata": {},
   "source": [
    "This is actually quite an important observation. Although all of the ISBN entries are unique in the 'books' dataframe, different forms of the same book will have different ISBNs - i.e. paperback, e-book, etc. Therefore, we can see that some books have multiple ISBN entries (e.g. Jane Eyre has 19 different ISBNs, each corresponding to a different version of the book).\n",
    "\n",
    "Let's take a look at, for example, the entries for 'Jane Eyre'."
   ]
  },
  {
   "cell_type": "code",
   "execution_count": 36,
   "metadata": {},
   "outputs": [
    {
     "data": {
      "text/html": [
       "<div>\n",
       "<style scoped>\n",
       "    .dataframe tbody tr th:only-of-type {\n",
       "        vertical-align: middle;\n",
       "    }\n",
       "\n",
       "    .dataframe tbody tr th {\n",
       "        vertical-align: top;\n",
       "    }\n",
       "\n",
       "    .dataframe thead th {\n",
       "        text-align: right;\n",
       "    }\n",
       "</style>\n",
       "<table border=\"1\" class=\"dataframe\">\n",
       "  <thead>\n",
       "    <tr style=\"text-align: right;\">\n",
       "      <th></th>\n",
       "      <th>isbn</th>\n",
       "      <th>book_title</th>\n",
       "      <th>book_author</th>\n",
       "      <th>year_of_publication</th>\n",
       "      <th>publisher</th>\n",
       "    </tr>\n",
       "  </thead>\n",
       "  <tbody>\n",
       "    <tr>\n",
       "      <td>3323</td>\n",
       "      <td>0451518845</td>\n",
       "      <td>Jane Eyre</td>\n",
       "      <td>Charlotte Bronte</td>\n",
       "      <td>1999.0</td>\n",
       "      <td>New Amer Library Classics</td>\n",
       "    </tr>\n",
       "    <tr>\n",
       "      <td>9545</td>\n",
       "      <td>0451523326</td>\n",
       "      <td>Jane Eyre</td>\n",
       "      <td>Charlotte Bronte</td>\n",
       "      <td>1988.0</td>\n",
       "      <td>Signet Classics</td>\n",
       "    </tr>\n",
       "    <tr>\n",
       "      <td>27657</td>\n",
       "      <td>1566193028</td>\n",
       "      <td>Jane Eyre</td>\n",
       "      <td>Charlotte Bronte</td>\n",
       "      <td>1994.0</td>\n",
       "      <td>Dorset Press</td>\n",
       "    </tr>\n",
       "    <tr>\n",
       "      <td>28501</td>\n",
       "      <td>156619024X</td>\n",
       "      <td>Jane Eyre</td>\n",
       "      <td>Charlotte Bronte</td>\n",
       "      <td>NaN</td>\n",
       "      <td>Barnes Noble Classics</td>\n",
       "    </tr>\n",
       "    <tr>\n",
       "      <td>40050</td>\n",
       "      <td>8426102069</td>\n",
       "      <td>Jane Eyre</td>\n",
       "      <td>Charlotte Bronte</td>\n",
       "      <td>1997.0</td>\n",
       "      <td>Juventud</td>\n",
       "    </tr>\n",
       "    <tr>\n",
       "      <td>41265</td>\n",
       "      <td>0553210203</td>\n",
       "      <td>Jane Eyre</td>\n",
       "      <td>Charlotte Bronte</td>\n",
       "      <td>1981.0</td>\n",
       "      <td>Bantam Books</td>\n",
       "    </tr>\n",
       "    <tr>\n",
       "      <td>58243</td>\n",
       "      <td>0460012878</td>\n",
       "      <td>Jane Eyre</td>\n",
       "      <td>Charlotte Bronte</td>\n",
       "      <td>1976.0</td>\n",
       "      <td>J m Dent &amp;; Sons Ltd</td>\n",
       "    </tr>\n",
       "    <tr>\n",
       "      <td>69689</td>\n",
       "      <td>0141305371</td>\n",
       "      <td>Jane Eyre</td>\n",
       "      <td>Charlotte Bronte</td>\n",
       "      <td>1999.0</td>\n",
       "      <td>Puffin Books</td>\n",
       "    </tr>\n",
       "    <tr>\n",
       "      <td>72306</td>\n",
       "      <td>2253004359</td>\n",
       "      <td>Jane Eyre</td>\n",
       "      <td>Charlotte BrontÃ?Â«</td>\n",
       "      <td>1991.0</td>\n",
       "      <td>LGF</td>\n",
       "    </tr>\n",
       "    <tr>\n",
       "      <td>84642</td>\n",
       "      <td>0812523377</td>\n",
       "      <td>Jane Eyre</td>\n",
       "      <td>Charlotte Bronte</td>\n",
       "      <td>1994.0</td>\n",
       "      <td>Tor Books</td>\n",
       "    </tr>\n",
       "    <tr>\n",
       "      <td>84848</td>\n",
       "      <td>0809598949</td>\n",
       "      <td>Jane Eyre</td>\n",
       "      <td>Charlotte Bronte</td>\n",
       "      <td>2004.0</td>\n",
       "      <td>Wildside Press</td>\n",
       "    </tr>\n",
       "    <tr>\n",
       "      <td>87375</td>\n",
       "      <td>3548301231</td>\n",
       "      <td>Jane Eyre</td>\n",
       "      <td>C Bronte</td>\n",
       "      <td>NaN</td>\n",
       "      <td>Ullstein-Taschenbuch-Verlag, Zweigniederlassun...</td>\n",
       "    </tr>\n",
       "    <tr>\n",
       "      <td>144292</td>\n",
       "      <td>0517668432</td>\n",
       "      <td>Jane Eyre</td>\n",
       "      <td>Charlotte Bronte</td>\n",
       "      <td>1988.0</td>\n",
       "      <td>Random House Value Publishing</td>\n",
       "    </tr>\n",
       "    <tr>\n",
       "      <td>158858</td>\n",
       "      <td>1853268348</td>\n",
       "      <td>Jane Eyre</td>\n",
       "      <td>Charlotte Bronte</td>\n",
       "      <td>NaN</td>\n",
       "      <td>Universal Sales Marketing</td>\n",
       "    </tr>\n",
       "    <tr>\n",
       "      <td>166665</td>\n",
       "      <td>2266083252</td>\n",
       "      <td>Jane Eyre</td>\n",
       "      <td>Charlotte BrontÃ?Â«</td>\n",
       "      <td>1999.0</td>\n",
       "      <td>Pocket</td>\n",
       "    </tr>\n",
       "    <tr>\n",
       "      <td>204658</td>\n",
       "      <td>0451515560</td>\n",
       "      <td>Jane Eyre</td>\n",
       "      <td>Charlotte Bronte</td>\n",
       "      <td>1981.0</td>\n",
       "      <td>Signet Book</td>\n",
       "    </tr>\n",
       "    <tr>\n",
       "      <td>226926</td>\n",
       "      <td>0582528259</td>\n",
       "      <td>Jane Eyre</td>\n",
       "      <td>Charlotte Bronte</td>\n",
       "      <td>1978.0</td>\n",
       "      <td>Addison-Wesley Pub Co</td>\n",
       "    </tr>\n",
       "    <tr>\n",
       "      <td>242914</td>\n",
       "      <td>1590071212</td>\n",
       "      <td>Jane Eyre</td>\n",
       "      <td>Charlotte Bronte</td>\n",
       "      <td>2002.0</td>\n",
       "      <td>New Millenium Audio</td>\n",
       "    </tr>\n",
       "    <tr>\n",
       "      <td>248967</td>\n",
       "      <td>843761449X</td>\n",
       "      <td>Jane Eyre</td>\n",
       "      <td>Charlotte Bronte</td>\n",
       "      <td>1998.0</td>\n",
       "      <td>Ediciones Catedra S.A.</td>\n",
       "    </tr>\n",
       "  </tbody>\n",
       "</table>\n",
       "</div>"
      ],
      "text/plain": [
       "              isbn book_title          book_author  year_of_publication  \\\n",
       "3323    0451518845  Jane Eyre     Charlotte Bronte               1999.0   \n",
       "9545    0451523326  Jane Eyre     Charlotte Bronte               1988.0   \n",
       "27657   1566193028  Jane Eyre     Charlotte Bronte               1994.0   \n",
       "28501   156619024X  Jane Eyre     Charlotte Bronte                  NaN   \n",
       "40050   8426102069  Jane Eyre     Charlotte Bronte               1997.0   \n",
       "41265   0553210203  Jane Eyre     Charlotte Bronte               1981.0   \n",
       "58243   0460012878  Jane Eyre     Charlotte Bronte               1976.0   \n",
       "69689   0141305371  Jane Eyre     Charlotte Bronte               1999.0   \n",
       "72306   2253004359  Jane Eyre  Charlotte BrontÃ?Â«               1991.0   \n",
       "84642   0812523377  Jane Eyre     Charlotte Bronte               1994.0   \n",
       "84848   0809598949  Jane Eyre     Charlotte Bronte               2004.0   \n",
       "87375   3548301231  Jane Eyre             C Bronte                  NaN   \n",
       "144292  0517668432  Jane Eyre     Charlotte Bronte               1988.0   \n",
       "158858  1853268348  Jane Eyre     Charlotte Bronte                  NaN   \n",
       "166665  2266083252  Jane Eyre  Charlotte BrontÃ?Â«               1999.0   \n",
       "204658  0451515560  Jane Eyre     Charlotte Bronte               1981.0   \n",
       "226926  0582528259  Jane Eyre     Charlotte Bronte               1978.0   \n",
       "242914  1590071212  Jane Eyre     Charlotte Bronte               2002.0   \n",
       "248967  843761449X  Jane Eyre     Charlotte Bronte               1998.0   \n",
       "\n",
       "                                                publisher  \n",
       "3323                            New Amer Library Classics  \n",
       "9545                                      Signet Classics  \n",
       "27657                                        Dorset Press  \n",
       "28501                               Barnes Noble Classics  \n",
       "40050                                            Juventud  \n",
       "41265                                        Bantam Books  \n",
       "58243                                J m Dent &; Sons Ltd  \n",
       "69689                                        Puffin Books  \n",
       "72306                                                 LGF  \n",
       "84642                                           Tor Books  \n",
       "84848                                      Wildside Press  \n",
       "87375   Ullstein-Taschenbuch-Verlag, Zweigniederlassun...  \n",
       "144292                      Random House Value Publishing  \n",
       "158858                          Universal Sales Marketing  \n",
       "166665                                             Pocket  \n",
       "204658                                        Signet Book  \n",
       "226926                              Addison-Wesley Pub Co  \n",
       "242914                                New Millenium Audio  \n",
       "248967                             Ediciones Catedra S.A.  "
      ]
     },
     "execution_count": 36,
     "metadata": {},
     "output_type": "execute_result"
    }
   ],
   "source": [
    "books[books.book_title=='Jane Eyre']"
   ]
  },
  {
   "cell_type": "markdown",
   "metadata": {},
   "source": [
    "It looks like each ISBN assigned to the book 'Jane Eyre' has different Publisher and Year of Publication values also.\n",
    "\n",
    "It might be more useful for our model if we simplified this to give each book a unique identifier, independent of the book format, as our recommendations will be for a book, not a specific version of a book. Therefore, all values in the Jane Eyre example above would stay the same, except all of the Jane Eyre entries would additionally be assigned a unique ISBN code as a new field.\n"
   ]
  },
  {
   "cell_type": "markdown",
   "metadata": {},
   "source": [
    "#### 3. Investigate Ratings Data"
   ]
  },
  {
   "cell_type": "markdown",
   "metadata": {},
   "source": [
    "I will first tidy up the column names (replacing '-' caracter with '_')."
   ]
  },
  {
   "cell_type": "code",
   "execution_count": 37,
   "metadata": {},
   "outputs": [
    {
     "name": "stdout",
     "output_type": "stream",
     "text": [
      "<class 'pandas.core.frame.DataFrame'>\n",
      "RangeIndex: 1149780 entries, 0 to 1149779\n",
      "Data columns (total 3 columns):\n",
      "user_id        1149780 non-null int64\n",
      "isbn           1149780 non-null object\n",
      "book_rating    1149780 non-null int64\n",
      "dtypes: int64(2), object(1)\n",
      "memory usage: 26.3+ MB\n"
     ]
    }
   ],
   "source": [
    "# replacing '-' caracter with '_'\n",
    "book_ratings.columns = book_ratings.columns.str.strip().str.lower().str.replace('-', '_')\n",
    "book_ratings.info()"
   ]
  },
  {
   "cell_type": "code",
   "execution_count": 38,
   "metadata": {},
   "outputs": [
    {
     "data": {
      "text/plain": [
       "user_id         int64\n",
       "isbn           object\n",
       "book_rating     int64\n",
       "dtype: object"
      ]
     },
     "execution_count": 38,
     "metadata": {},
     "output_type": "execute_result"
    }
   ],
   "source": [
    "book_ratings.dtypes"
   ]
  },
  {
   "cell_type": "markdown",
   "metadata": {},
   "source": [
    "The data types already look good. Remember that the ISBN numbers may contain letters, and so should be left as strings.\n",
    "\n",
    "Which users contribute the most ratings?"
   ]
  },
  {
   "cell_type": "code",
   "execution_count": 39,
   "metadata": {},
   "outputs": [
    {
     "name": "stdout",
     "output_type": "stream",
     "text": [
      "The 20 users with the most ratings:\n",
      "user_id\n",
      "11676     13602\n",
      "198711     7550\n",
      "153662     6109\n",
      "98391      5891\n",
      "35859      5850\n",
      "212898     4785\n",
      "278418     4533\n",
      "76352      3367\n",
      "110973     3100\n",
      "235105     3067\n",
      "230522     2991\n",
      "16795      2948\n",
      "234623     2674\n",
      "36836      2529\n",
      "52584      2512\n",
      "245963     2507\n",
      "204864     2504\n",
      "55492      2459\n",
      "185233     2448\n",
      "171118     2421\n",
      "Name: isbn, dtype: int64\n"
     ]
    }
   ],
   "source": [
    "active_users = book_ratings.groupby('user_id').isbn.count().sort_values(ascending=False)\n",
    "print(f'The 20 users with the most ratings:\\n{active_users[:20]}')"
   ]
  },
  {
   "cell_type": "markdown",
   "metadata": {},
   "source": [
    "Wow! User #11676 has almost twice as many ratings as the next highest user!\n",
    "\n",
    "Let's see how they are distributed."
   ]
  },
  {
   "cell_type": "code",
   "execution_count": 40,
   "metadata": {},
   "outputs": [
    {
     "data": {
      "image/png": "[encoded data removed]",
      "text/plain": [
       "<Figure size 432x288 with 1 Axes>"
      ]
     },
     "metadata": {
      "needs_background": "light"
     },
     "output_type": "display_data"
    }
   ],
   "source": [
    "# user distribution - users with less than 50 ratings removed\n",
    "user_hist = active_users.where(active_users<50)\n",
    "user_hist.hist(bins=30)\n",
    "plt.xlabel('No. of ratings (min. 50)')\n",
    "plt.ylabel('count')\n",
    "plt.show()"
   ]
  },
  {
   "cell_type": "markdown",
   "metadata": {},
   "source": [
    "It looks like by far the most frequent events are users with only 1 or 2 rating entries. We can see that the 'super users' with thousands of ratings are significant outliers.\n",
    "\n",
    "This becomes clear if we make the same histogram with a cutoff for users with a minimum of 1000 ratings."
   ]
  },
  {
   "cell_type": "code",
   "execution_count": 41,
   "metadata": {},
   "outputs": [
    {
     "data": {
      "image/png": "[encoded data removed]",
      "text/plain": [
       "<Figure size 432x288 with 1 Axes>"
      ]
     },
     "metadata": {
      "needs_background": "light"
     },
     "output_type": "display_data"
    }
   ],
   "source": [
    "# only users with more than 1000 ratings\n",
    "active_user_hist = active_users.where(active_users>1000)\n",
    "active_user_hist.hist(bins=30)\n",
    "plt.xlabel('No. of ratings (min. 1000)')\n",
    "plt.ylabel('count')\n",
    "plt.show()"
   ]
  },
  {
   "cell_type": "markdown",
   "metadata": {},
   "source": [
    "Let's see what the distribution of ratings looks like."
   ]
  },
  {
   "cell_type": "code",
   "execution_count": 42,
   "metadata": {},
   "outputs": [
    {
     "data": {
      "image/png": "[encoded data removed]",
      "text/plain": [
       "<Figure size 720x360 with 1 Axes>"
      ]
     },
     "metadata": {
      "needs_background": "light"
     },
     "output_type": "display_data"
    }
   ],
   "source": [
    "rtg = book_ratings.book_rating.value_counts().sort_index()\n",
    "\n",
    "plt.figure(figsize=(10, 5))\n",
    "plt.rcParams.update({'font.size': 15}) # Set larger plot font size\n",
    "plt.bar(rtg.index, rtg.values)\n",
    "plt.xlabel('Rating')\n",
    "plt.ylabel('counts')\n",
    "plt.show()"
   ]
  },
  {
   "cell_type": "markdown",
   "metadata": {},
   "source": [
    "Seems like most of the entries have a rating of zero!\n",
    "\n",
    "The explicit ratings represented by 1–10 and implicit ratings represented by 0 will have to be segregated now. We will be using only explicit ratings for building our book recommendation system\n",
    "\n",
    "For the modeling step we'll only be looking at explicit ratings, and so the 0 rating entry rows will be removed."
   ]
  },
  {
   "cell_type": "code",
   "execution_count": 43,
   "metadata": {},
   "outputs": [
    {
     "name": "stdout",
     "output_type": "stream",
     "text": [
      "Size of book_ratings before removing zero ratings: 1149780\n",
      "Size of book_ratings after removing zero ratings: 433671\n"
     ]
    }
   ],
   "source": [
    "print(f'Size of book_ratings before removing zero ratings: {len(book_ratings)}')\n",
    "book_ratings = book_ratings[book_ratings.book_rating != 0]\n",
    "print(f'Size of book_ratings after removing zero ratings: {len(book_ratings)}')"
   ]
  },
  {
   "cell_type": "markdown",
   "metadata": {},
   "source": [
    "By removing the implicit ratings we have reduced our sample size by more than half.\n",
    "\n",
    "Let's look at how the ratings are distributed again."
   ]
  },
  {
   "cell_type": "code",
   "execution_count": 44,
   "metadata": {
    "scrolled": true
   },
   "outputs": [
    {
     "data": {
      "image/png": "[encoded data removed]",
      "text/plain": [
       "<Figure size 720x360 with 1 Axes>"
      ]
     },
     "metadata": {
      "needs_background": "light"
     },
     "output_type": "display_data"
    }
   ],
   "source": [
    "rtg = book_ratings.book_rating.value_counts().sort_index()\n",
    "\n",
    "plt.figure(figsize=(10, 5))\n",
    "plt.rcParams.update({'font.size': 15}) # Set larger plot font size\n",
    "plt.bar(rtg.index, rtg.values)\n",
    "plt.xlabel('Rating')\n",
    "plt.ylabel('counts')\n",
    "plt.show()"
   ]
  },
  {
   "cell_type": "markdown",
   "metadata": {},
   "source": [
    "This is much more clear! Now we can see that 8 is the most frequent rating, while users tend to give ratings > 5, with very few low ratings given."
   ]
  },
  {
   "cell_type": "markdown",
   "metadata": {},
   "source": [
    "#### 4. Unify dataset (users,books,ratings)"
   ]
  },
  {
   "cell_type": "markdown",
   "metadata": {},
   "source": [
    "##### unify books and ratings"
   ]
  },
  {
   "cell_type": "code",
   "execution_count": 45,
   "metadata": {},
   "outputs": [
    {
     "name": "stdout",
     "output_type": "stream",
     "text": [
      "Books table size: 271339\n",
      "Ratings table size: 433671\n",
      "New table size: 433671\n"
     ]
    }
   ],
   "source": [
    "print(f'Books table size: {len(books)}')\n",
    "print(f'Ratings table size: {len(book_ratings)}')\n",
    "books_with_ratings = book_ratings.join(books.set_index('isbn'), on='isbn')\n",
    "print(f'New table size: {len(books_with_ratings)}')"
   ]
  },
  {
   "cell_type": "markdown",
   "metadata": {},
   "source": [
    "##### investigate new dataset"
   ]
  },
  {
   "cell_type": "code",
   "execution_count": 46,
   "metadata": {},
   "outputs": [
    {
     "name": "stdout",
     "output_type": "stream",
     "text": [
      "<class 'pandas.core.frame.DataFrame'>\n",
      "Int64Index: 433671 entries, 1 to 1149779\n",
      "Data columns (total 7 columns):\n",
      "user_id                433671 non-null int64\n",
      "isbn                   433671 non-null object\n",
      "book_rating            433671 non-null int64\n",
      "book_title             383810 non-null object\n",
      "book_author            383809 non-null object\n",
      "year_of_publication    378026 non-null float64\n",
      "publisher              383808 non-null object\n",
      "dtypes: float64(1), int64(2), object(4)\n",
      "memory usage: 26.5+ MB\n"
     ]
    }
   ],
   "source": [
    "books_with_ratings.info()"
   ]
  },
  {
   "cell_type": "code",
   "execution_count": 47,
   "metadata": {},
   "outputs": [
    {
     "name": "stdout",
     "output_type": "stream",
     "text": [
      "There are 49861 books with no title/author information.\n",
      "This represents 11.50% of the ratings dataset.\n"
     ]
    }
   ],
   "source": [
    "print(f'There are {books_with_ratings.book_title.isnull().sum()} books with no title/author information.')\n",
    "print(f'This represents {(books_with_ratings.book_title.isnull().sum()/len(books_with_ratings)*100):.2f}% of the ratings dataset.')"
   ]
  },
  {
   "cell_type": "markdown",
   "metadata": {},
   "source": [
    "There seems to be quite a few ISBNs in the ratings table that did not match an ISBN in the books table, almost 9% of all entries!\n",
    "\n",
    "There isn't really anything we can do about that, but we should really remove them from the dataset as we won't be able to access the title of the book to make a recommendation even if the model can use them."
   ]
  },
  {
   "cell_type": "markdown",
   "metadata": {},
   "source": [
    "It looks like the year_of_publication field contains the most NaN entries, while user_id, isbn, and book_rating are full. The book_title, book_author, and publisher fields contain approximately the same number of missing entries.\n",
    "\n",
    "We'll choose to remove rows for which the book_title is empty, as this is the most crucial piece of data needed to identify the book."
   ]
  },
  {
   "cell_type": "code",
   "execution_count": 48,
   "metadata": {},
   "outputs": [],
   "source": [
    "books_with_ratings.dropna(subset=['book_title'], inplace=True) # remove rows with missing title/author data"
   ]
  },
  {
   "cell_type": "markdown",
   "metadata": {},
   "source": [
    "##### books haveing the highest cumulative book rating values."
   ]
  },
  {
   "cell_type": "code",
   "execution_count": 49,
   "metadata": {},
   "outputs": [
    {
     "data": {
      "image/png": "[encoded data removed]",
      "text/plain": [
       "<Figure size 720x360 with 1 Axes>"
      ]
     },
     "metadata": {
      "needs_background": "light"
     },
     "output_type": "display_data"
    }
   ],
   "source": [
    "cm_rtg = books_with_ratings.groupby('book_title').book_rating.sum()\n",
    "cm_rtg = cm_rtg.sort_values(ascending=False)[:10]\n",
    "idx = cm_rtg.index.tolist() # Get sorted book titles\n",
    "vals = cm_rtg.values.tolist() # Get corresponding cm_rtg values\n",
    "\n",
    "plt.figure(figsize=(10, 5))\n",
    "plt.rcParams.update({'font.size': 15})\n",
    "plt.bar(range(len(idx)), vals)\n",
    "plt.xticks(range(len(idx)), idx, rotation='vertical')\n",
    "plt.ylabel('cumulative rating score')\n",
    "plt.show()"
   ]
  },
  {
   "cell_type": "markdown",
   "metadata": {},
   "source": [
    "This seems about right as it combines the total number of ratings with the score given, so these are all really popular book titles.\n",
    "\n",
    "What about the highest average ratings (with a minimum of at least 50 ratings recieved)?"
   ]
  },
  {
   "cell_type": "code",
   "execution_count": 50,
   "metadata": {},
   "outputs": [
    {
     "data": {
      "text/plain": [
       "book_title\n",
       "The Two Towers (The Lord of the Rings, Part 2)            9.330882\n",
       "The Return of the King (The Lord of the Rings, Part 3)    9.213592\n",
       "Harry Potter and the Goblet of Fire (Book 4)              9.125506\n",
       "The Little Prince                                         9.111111\n",
       "Charlotte's Web (Trophy Newbery)                          9.073529\n",
       "Harry Potter and the Sorcerer's Stone (Book 1)            9.062500\n",
       "84 Charing Cross Road                                     9.049180\n",
       "Harry Potter and the Order of the Phoenix (Book 5)        9.047393\n",
       "Harry Potter and the Prisoner of Azkaban (Book 3)         9.043321\n",
       "To Kill a Mockingbird                                     8.977528\n",
       "Name: book_rating, dtype: float64"
      ]
     },
     "execution_count": 50,
     "metadata": {},
     "output_type": "execute_result"
    }
   ],
   "source": [
    "cutoff = books_with_ratings.book_title.value_counts()\n",
    "mean_rtg = books_with_ratings[books_with_ratings.book_title.isin(cutoff[cutoff>50].index)].groupby('book_title')['book_rating'].mean()\n",
    "mean_rtg.sort_values(ascending=False)[:10] # show only top 10"
   ]
  },
  {
   "cell_type": "markdown",
   "metadata": {},
   "source": [
    "This looks perfectly reasonable. The Harry Potter and Lord of the Rings books rate extremely highly, as expected.\n",
    "\n",
    "How about the lowest-rated books?"
   ]
  },
  {
   "cell_type": "code",
   "execution_count": 51,
   "metadata": {},
   "outputs": [
    {
     "data": {
      "text/plain": [
       "book_title\n",
       "Slow Waltz in Cedar Bend                                  6.619718\n",
       "My Gal Sunday                                             6.607843\n",
       "Hornet's Nest                                             6.591398\n",
       "Bleachers                                                 6.583333\n",
       "Full Tilt (Janet Evanovich's Full Series)                 6.568627\n",
       "Songs in Ordinary Time (Oprah's Book Club (Paperback))    6.530303\n",
       "4 Blondes                                                 5.653846\n",
       "Isle of Dogs                                              5.433962\n",
       "Four Blondes                                              5.393939\n",
       "Wild Animus                                               4.390706\n",
       "Name: book_rating, dtype: float64"
      ]
     },
     "execution_count": 51,
     "metadata": {},
     "output_type": "execute_result"
    }
   ],
   "source": [
    "mean_rtg.sort_values(ascending=False)[-10:] # bottom 10 only"
   ]
  },
  {
   "cell_type": "markdown",
   "metadata": {},
   "source": [
    "Seems like the lowest average rating in the dataset is only a 4.39 - and all the rest of the books have average ratings higher than 5.\n",
    "\n",
    "I haven't heard of any of these books, so I can't really comment on if they seem correct here.\n",
    "\n",
    "**Now I'd like to tackle the challenge of the same book potentially having multiple ISBN numbers (for the different formats it is available in). We should clean that up here before we add the 'user' table.**"
   ]
  },
  {
   "cell_type": "markdown",
   "metadata": {},
   "source": [
    "##### Restrict books to a \"single ISBN per book\" (regardless of format)"
   ]
  },
  {
   "cell_type": "markdown",
   "metadata": {},
   "source": [
    "Let's look again at the book titles which have the most associated ISBN numbers."
   ]
  },
  {
   "cell_type": "code",
   "execution_count": 52,
   "metadata": {},
   "outputs": [
    {
     "data": {
      "text/plain": [
       "book_title\n",
       "The Secret Garden                 18\n",
       "Selected Poems                    16\n",
       "Adventures of Huckleberry Finn    15\n",
       "Dracula                           15\n",
       "Beloved                           14\n",
       "Wuthering Heights                 14\n",
       "Jane Eyre                         14\n",
       "Pride and Prejudice               14\n",
       "Little Women                      14\n",
       "The Hobbit                        12\n",
       "Name: isbn, dtype: int64"
      ]
     },
     "execution_count": 52,
     "metadata": {},
     "output_type": "execute_result"
    }
   ],
   "source": [
    "books_with_ratings.groupby('book_title').isbn.nunique().sort_values(ascending=False)[:10]"
   ]
  },
  {
   "cell_type": "code",
   "execution_count": 53,
   "metadata": {},
   "outputs": [
    {
     "data": {
      "text/plain": [
       "1     125322\n",
       "2       7872\n",
       "3       1497\n",
       "4        493\n",
       "5        181\n",
       "6         86\n",
       "7         44\n",
       "8         27\n",
       "9         11\n",
       "10         8\n",
       "14         5\n",
       "15         2\n",
       "11         2\n",
       "18         1\n",
       "16         1\n",
       "12         1\n",
       "Name: isbn, dtype: int64"
      ]
     },
     "execution_count": 53,
     "metadata": {},
     "output_type": "execute_result"
    }
   ],
   "source": [
    "multiple_isbns = books_with_ratings.groupby('book_title').isbn.nunique()\n",
    "multiple_isbns.value_counts()"
   ]
  },
  {
   "cell_type": "markdown",
   "metadata": {},
   "source": [
    "We can see that the vast majority of books have less only 1 associated ISBN number, however quite a few multiple ISBNs. We want to create a ```unique_isbn``` such that a single book will only have 1 identifier when fed to the recommendation model."
   ]
  },
  {
   "cell_type": "code",
   "execution_count": 54,
   "metadata": {},
   "outputs": [],
   "source": [
    "has_mult_isbns = multiple_isbns.where(multiple_isbns>1)\n",
    "has_mult_isbns.dropna(inplace=True) # remove NaNs, which in this case is books with a single ISBN number"
   ]
  },
  {
   "cell_type": "code",
   "execution_count": 55,
   "metadata": {},
   "outputs": [
    {
     "name": "stdout",
     "output_type": "stream",
     "text": [
      "There are 10231 book titles with multiple ISBN numbers which we will try to re-assign to a unique identifier\n"
     ]
    }
   ],
   "source": [
    "print(f'There are {len(has_mult_isbns)} book titles with multiple ISBN numbers which we will try to re-assign to a unique identifier')"
   ]
  },
  {
   "cell_type": "code",
   "execution_count": 56,
   "metadata": {},
   "outputs": [
    {
     "data": {
      "text/plain": [
       "14.0"
      ]
     },
     "execution_count": 56,
     "metadata": {},
     "output_type": "execute_result"
    }
   ],
   "source": [
    "# Check to see that our friend Jane Eyre still has multiple ISBN values\n",
    "has_mult_isbns['Jane Eyre']"
   ]
  },
  {
   "cell_type": "markdown",
   "metadata": {},
   "source": [
    "**Note:** Created the dictionary below and pickled it, just need to load it again (or run it if the first time on a new system)."
   ]
  },
  {
   "cell_type": "code",
   "execution_count": 57,
   "metadata": {},
   "outputs": [],
   "source": [
    "# Create dictionary for books with multiple isbns\n",
    "# def make_isbn_dict(df):\n",
    "#     title_isbn_dict = {}\n",
    "#     for title in has_mult_isbns.index:\n",
    "#         isbn_series = df.loc[df.book_title==title].isbn.unique() # returns only the unique ISBNs\n",
    "#         title_isbn_dict[title] = isbn_series.tolist()\n",
    "#     return title_isbn_dict\n",
    "\n",
    "# %time dict_unique_isbn = make_isbn_dict(books_with_ratings)"
   ]
  },
  {
   "cell_type": "code",
   "execution_count": 58,
   "metadata": {},
   "outputs": [],
   "source": [
    "# As the loop takes a while to run (8 min on the full dataset), pickle this dict for future use\n",
    "# with open('multiple_isbn_dict.pickle', 'wb') as handle:\n",
    "#     pickle.dump(dict_unique_isbn, handle, protocol=pickle.HIGHEST_PROTOCOL)"
   ]
  },
  {
   "cell_type": "code",
   "execution_count": 59,
   "metadata": {},
   "outputs": [],
   "source": [
    "# LOAD isbn_dict back into namespace\n",
    "with open('multiple_isbn_dict.pickle', 'rb') as handle:\n",
    "    multiple_isbn_dict = pickle.load(handle)"
   ]
  },
  {
   "cell_type": "code",
   "execution_count": 60,
   "metadata": {},
   "outputs": [
    {
     "name": "stdout",
     "output_type": "stream",
     "text": [
      "There are now 10231 books in the ISBN dictionary that have multiple ISBN numbers\n"
     ]
    }
   ],
   "source": [
    "print(f'There are now {len(multiple_isbn_dict)} books in the ISBN dictionary that have multiple ISBN numbers')"
   ]
  },
  {
   "cell_type": "markdown",
   "metadata": {},
   "source": [
    "Let's take a quick look in the dict we just created for the 'Jane Eyre' entry - it should contain a list of 14 ISBN numbers."
   ]
  },
  {
   "cell_type": "code",
   "execution_count": 61,
   "metadata": {},
   "outputs": [
    {
     "name": "stdout",
     "output_type": "stream",
     "text": [
      "Length of Jane Eyre dict entry: 14\n",
      "\n"
     ]
    },
    {
     "data": {
      "text/plain": [
       "['1590071212',\n",
       " '0451518845',\n",
       " '0451523326',\n",
       " '843761449X',\n",
       " '156619024X',\n",
       " '8426102069',\n",
       " '1566193028',\n",
       " '0141305371',\n",
       " '3548301231',\n",
       " '0812523377',\n",
       " '0517668432',\n",
       " '2253004359',\n",
       " '0553210203',\n",
       " '0451515560']"
      ]
     },
     "execution_count": 61,
     "metadata": {},
     "output_type": "execute_result"
    }
   ],
   "source": [
    "print(f'Length of Jane Eyre dict entry: {len(multiple_isbn_dict[\"Jane Eyre\"])}\\n')\n",
    "multiple_isbn_dict['Jane Eyre']"
   ]
  },
  {
   "cell_type": "markdown",
   "metadata": {},
   "source": [
    "Looking good!\n",
    "\n",
    "As I don't really know what each of the different ISBN numbers refers to (from what I understand the code actually signifies various things including publisher, year, type of print, etc, but decoding this is outside the scope of this analysis), I'll just select the **first** ISBN number that appears in the list of values to set as our ```unique_isbn``` for that particular book.\n",
    "\n",
    "_**Note**_: ISBN numbers are currently 13 digits long, but used to be 10. Any ISBN that isn't 10 or 13 digits long is probably an error that should be handled somehow. Any that are 9 digits long might actually be SBN numbers (pre-1970), and can be converted into ISBN's by just pre-fixing with a zero."
   ]
  },
  {
   "cell_type": "code",
   "execution_count": 62,
   "metadata": {},
   "outputs": [
    {
     "name": "stdout",
     "output_type": "stream",
     "text": [
      "Wall time: 8.13 s\n"
     ]
    }
   ],
   "source": [
    "# Add 'unique_isbn' column to 'books_with_ratings' dataframe that includes the first ISBN if multiple ISBNS,\n",
    "# or just the ISBN if only 1 ISBN present anyway.\n",
    "def add_unique_isbn_col(df):\n",
    "    df['unique_isbn'] = df.apply(lambda row: multiple_isbn_dict[row.book_title][0] if row.book_title in multiple_isbn_dict.keys() else row.isbn, axis=1)\n",
    "    return df\n",
    "\n",
    "%time books_with_ratings = add_unique_isbn_col(books_with_ratings)"
   ]
  },
  {
   "cell_type": "code",
   "execution_count": 63,
   "metadata": {},
   "outputs": [
    {
     "name": "stdout",
     "output_type": "stream",
     "text": [
      "<class 'pandas.core.frame.DataFrame'>\n",
      "Int64Index: 383810 entries, 1 to 1149778\n",
      "Data columns (total 8 columns):\n",
      "user_id                383810 non-null int64\n",
      "isbn                   383810 non-null object\n",
      "book_rating            383810 non-null int64\n",
      "book_title             383810 non-null object\n",
      "book_author            383809 non-null object\n",
      "year_of_publication    378026 non-null float64\n",
      "publisher              383808 non-null object\n",
      "unique_isbn            383810 non-null object\n",
      "dtypes: float64(1), int64(2), object(5)\n",
      "memory usage: 26.4+ MB\n"
     ]
    }
   ],
   "source": [
    "books_with_ratings.info()"
   ]
  },
  {
   "cell_type": "markdown",
   "metadata": {},
   "source": [
    "The table now includes our ```unique_isbn``` field.\n",
    "\n",
    "Let's check to see if the 'Jane Eyre' entries have been assigned the ISBN '1590071212', which was the first val in the dictionary for this title."
   ]
  },
  {
   "cell_type": "code",
   "execution_count": 64,
   "metadata": {},
   "outputs": [
    {
     "data": {
      "text/html": [
       "<div>\n",
       "<style scoped>\n",
       "    .dataframe tbody tr th:only-of-type {\n",
       "        vertical-align: middle;\n",
       "    }\n",
       "\n",
       "    .dataframe tbody tr th {\n",
       "        vertical-align: top;\n",
       "    }\n",
       "\n",
       "    .dataframe thead th {\n",
       "        text-align: right;\n",
       "    }\n",
       "</style>\n",
       "<table border=\"1\" class=\"dataframe\">\n",
       "  <thead>\n",
       "    <tr style=\"text-align: right;\">\n",
       "      <th></th>\n",
       "      <th>user_id</th>\n",
       "      <th>isbn</th>\n",
       "      <th>book_rating</th>\n",
       "      <th>book_title</th>\n",
       "      <th>book_author</th>\n",
       "      <th>year_of_publication</th>\n",
       "      <th>publisher</th>\n",
       "      <th>unique_isbn</th>\n",
       "    </tr>\n",
       "  </thead>\n",
       "  <tbody>\n",
       "    <tr>\n",
       "      <td>10481</td>\n",
       "      <td>387</td>\n",
       "      <td>1590071212</td>\n",
       "      <td>9</td>\n",
       "      <td>Jane Eyre</td>\n",
       "      <td>Charlotte Bronte</td>\n",
       "      <td>2002.0</td>\n",
       "      <td>New Millenium Audio</td>\n",
       "      <td>1590071212</td>\n",
       "    </tr>\n",
       "    <tr>\n",
       "      <td>16178</td>\n",
       "      <td>2718</td>\n",
       "      <td>0451518845</td>\n",
       "      <td>10</td>\n",
       "      <td>Jane Eyre</td>\n",
       "      <td>Charlotte Bronte</td>\n",
       "      <td>1999.0</td>\n",
       "      <td>New Amer Library Classics</td>\n",
       "      <td>1590071212</td>\n",
       "    </tr>\n",
       "    <tr>\n",
       "      <td>35499</td>\n",
       "      <td>8370</td>\n",
       "      <td>0451523326</td>\n",
       "      <td>8</td>\n",
       "      <td>Jane Eyre</td>\n",
       "      <td>Charlotte Bronte</td>\n",
       "      <td>1988.0</td>\n",
       "      <td>Signet Classics</td>\n",
       "      <td>1590071212</td>\n",
       "    </tr>\n",
       "    <tr>\n",
       "      <td>50842</td>\n",
       "      <td>11676</td>\n",
       "      <td>0451523326</td>\n",
       "      <td>9</td>\n",
       "      <td>Jane Eyre</td>\n",
       "      <td>Charlotte Bronte</td>\n",
       "      <td>1988.0</td>\n",
       "      <td>Signet Classics</td>\n",
       "      <td>1590071212</td>\n",
       "    </tr>\n",
       "    <tr>\n",
       "      <td>58066</td>\n",
       "      <td>11676</td>\n",
       "      <td>843761449X</td>\n",
       "      <td>8</td>\n",
       "      <td>Jane Eyre</td>\n",
       "      <td>Charlotte Bronte</td>\n",
       "      <td>1998.0</td>\n",
       "      <td>Ediciones Catedra S.A.</td>\n",
       "      <td>1590071212</td>\n",
       "    </tr>\n",
       "  </tbody>\n",
       "</table>\n",
       "</div>"
      ],
      "text/plain": [
       "       user_id        isbn  book_rating book_title       book_author  \\\n",
       "10481      387  1590071212            9  Jane Eyre  Charlotte Bronte   \n",
       "16178     2718  0451518845           10  Jane Eyre  Charlotte Bronte   \n",
       "35499     8370  0451523326            8  Jane Eyre  Charlotte Bronte   \n",
       "50842    11676  0451523326            9  Jane Eyre  Charlotte Bronte   \n",
       "58066    11676  843761449X            8  Jane Eyre  Charlotte Bronte   \n",
       "\n",
       "       year_of_publication                  publisher unique_isbn  \n",
       "10481               2002.0        New Millenium Audio  1590071212  \n",
       "16178               1999.0  New Amer Library Classics  1590071212  \n",
       "35499               1988.0            Signet Classics  1590071212  \n",
       "50842               1988.0            Signet Classics  1590071212  \n",
       "58066               1998.0     Ediciones Catedra S.A.  1590071212  "
      ]
     },
     "execution_count": 64,
     "metadata": {},
     "output_type": "execute_result"
    }
   ],
   "source": [
    "books_with_ratings[books_with_ratings.book_title=='Jane Eyre'].head()"
   ]
  },
  {
   "cell_type": "markdown",
   "metadata": {},
   "source": [
    "Great! Seems to have worked well.\n",
    "\n",
    "We won't replace the original ISBN column with the 'unique_isbn' column, but just note that the recommendation model should be based on the 'unique_isbn' field."
   ]
  },
  {
   "cell_type": "markdown",
   "metadata": {},
   "source": [
    "##### unify users with books_with_ ratings on the 'user_id' field"
   ]
  },
  {
   "cell_type": "code",
   "execution_count": 65,
   "metadata": {},
   "outputs": [
    {
     "name": "stdout",
     "output_type": "stream",
     "text": [
      "Books+Ratings table size: 383810\n",
      "Users table size: 278858\n",
      "New \"books_users_ratings\" table size: 383810\n"
     ]
    }
   ],
   "source": [
    "print(f'Books+Ratings table size: {len(books_with_ratings)}')\n",
    "print(f'Users table size: {len(users)}')\n",
    "books_users_ratings = books_with_ratings.join(users.set_index('user_id'), on='user_id')\n",
    "print(f'New \"books_users_ratings\" table size: {len(books_users_ratings)}')"
   ]
  },
  {
   "cell_type": "markdown",
   "metadata": {},
   "source": [
    "##### Inspect the new table."
   ]
  },
  {
   "cell_type": "code",
   "execution_count": 80,
   "metadata": {},
   "outputs": [
    {
     "name": "stdout",
     "output_type": "stream",
     "text": [
      "<class 'pandas.core.frame.DataFrame'>\n",
      "Int64Index: 383810 entries, 1 to 1149778\n",
      "Data columns (total 12 columns):\n",
      "user_id                383810 non-null int64\n",
      "isbn                   383810 non-null object\n",
      "book_rating            383810 non-null int64\n",
      "book_title             383810 non-null object\n",
      "book_author            383809 non-null object\n",
      "year_of_publication    378026 non-null float64\n",
      "publisher              383808 non-null object\n",
      "unique_isbn            383810 non-null object\n",
      "age                    267996 non-null float64\n",
      "city                   383810 non-null object\n",
      "state                  383810 non-null object\n",
      "country                373330 non-null object\n",
      "dtypes: float64(2), int64(2), object(8)\n",
      "memory usage: 38.1+ MB\n"
     ]
    }
   ],
   "source": [
    "books_users_ratings.info()"
   ]
  },
  {
   "cell_type": "markdown",
   "metadata": {},
   "source": [
    "There are a few missing ```age```, ```year_of_publication```, ```publisher```, and ```country``` entries, but the primary fields of ```user_id```, ```unique_isbn```, and ```book_rating``` are all full, which is good.\n",
    "\n",
    "In terms of the data types, ```user_id``` and ```book_rating``` are integers, while the ```unique_isbn``` are strings (which is expected as the ISBN numbers may also contain letters)."
   ]
  },
  {
   "cell_type": "code",
   "execution_count": 81,
   "metadata": {},
   "outputs": [
    {
     "data": {
      "text/plain": [
       "(383810, 12)"
      ]
     },
     "execution_count": 81,
     "metadata": {},
     "output_type": "execute_result"
    }
   ],
   "source": [
    "books_users_ratings.shape"
   ]
  },
  {
   "cell_type": "markdown",
   "metadata": {},
   "source": [
    "There are 383,810 entries in this dataset, with 12 fields/columns."
   ]
  },
  {
   "cell_type": "markdown",
   "metadata": {},
   "source": [
    "Finally, I will create a new dataframe that contains only the relevant columns (```user_id```, ```unique_isbn```, and ```book_rating```)."
   ]
  },
  {
   "cell_type": "code",
   "execution_count": 82,
   "metadata": {},
   "outputs": [
    {
     "name": "stdout",
     "output_type": "stream",
     "text": [
      "<class 'pandas.core.frame.DataFrame'>\n",
      "Int64Index: 383810 entries, 1 to 1149778\n",
      "Data columns (total 3 columns):\n",
      "user_id        383810 non-null int64\n",
      "unique_isbn    383810 non-null object\n",
      "book_rating    383810 non-null int64\n",
      "dtypes: int64(2), object(1)\n",
      "memory usage: 11.7+ MB\n"
     ]
    }
   ],
   "source": [
    "user_item_rating = books_users_ratings[['user_id', 'unique_isbn', 'book_rating']]\n",
    "user_item_rating.info()"
   ]
  },
  {
   "cell_type": "markdown",
   "metadata": {},
   "source": [
    "#### Data Filteration\n",
    "There are two reasons why we want to filter to roughly 13,500 movies in our dataset.\n",
    "\n",
    " - Memory issue: we don't want to run into the “MemoryError” during model training Improve \n",
    " - KNN performance: lesser known movies have ratings from fewer viewers, making the pattern more noisy. Droping out less known movies can improve recommendation quality"
   ]
  },
  {
   "cell_type": "code",
   "execution_count": 84,
   "metadata": {},
   "outputs": [
    {
     "name": "stdout",
     "output_type": "stream",
     "text": [
      "<class 'pandas.core.frame.DataFrame'>\n",
      "Int64Index: 103266 entries, 1456 to 1147615\n",
      "Data columns (total 3 columns):\n",
      "user_id        103266 non-null int64\n",
      "unique_isbn    103266 non-null int64\n",
      "book_rating    103266 non-null int64\n",
      "dtypes: int64(3)\n",
      "memory usage: 3.2 MB\n"
     ]
    }
   ],
   "source": [
    "## To ensure statistical significance, users with less than 20 ratings, and books with less than 20 ratings are excluded.\n",
    "popularity_thres = 100\n",
    "popular_users = user_item_rating['user_id'].value_counts()\n",
    "user_item_rating = user_item_rating[user_item_rating['user_id'].isin(popular_users[popular_users >= popularity_thres].index)]\n",
    "popular_books = user_item_rating['book_rating'].value_counts()\n",
    "user_item_rating = user_item_rating[user_item_rating['book_rating'].isin(popular_books[popular_books >= popularity_thres].index)]\n",
    "user_item_rating.info()"
   ]
  },
  {
   "cell_type": "code",
   "execution_count": 85,
   "metadata": {},
   "outputs": [
    {
     "name": "stdout",
     "output_type": "stream",
     "text": [
      "There are 449 unique users and 61644 unique books in this data set\n"
     ]
    }
   ],
   "source": [
    "num_users = len(user_item_rating.user_id.unique())\n",
    "num_items = len(user_item_rating.unique_isbn.unique())\n",
    "print('There are {} unique users and {} unique books in this data set'.format(num_users, num_items))"
   ]
  },
  {
   "cell_type": "code",
   "execution_count": 86,
   "metadata": {},
   "outputs": [
    {
     "name": "stdout",
     "output_type": "stream",
     "text": [
      "There are 449 distinct users and the max of user ID is also 278418\n",
      "There are 61644 distinct books, however, the max of book ID is 9997555635\n",
      "In the context of matrix factorization, the current item vector is in unnecessarily high dimensional space\n",
      "So we need to do some data cleaning to reduce the dimension of item vector back to 61644\n"
     ]
    }
   ],
   "source": [
    "user_maxId = user_item_rating.user_id.max()\n",
    "item_maxId = user_item_rating.unique_isbn.max()\n",
    "print('There are {} distinct users and the max of user ID is also {}'.format(num_users, user_maxId))\n",
    "print('There are {} distinct books, however, the max of book ID is {}'.format(num_items, item_maxId))\n",
    "print('In the context of matrix factorization, the current item vector is in unnecessarily high dimensional space')\n",
    "print('So we need to do some data cleaning to reduce the dimension of item vector back to {}'.format(num_items))"
   ]
  },
  {
   "cell_type": "code",
   "execution_count": 87,
   "metadata": {},
   "outputs": [],
   "source": [
    "def reduce_item_dim(user_item_rating):\n",
    "    \"\"\"\n",
    "    Reduce item vector dimension to the number of distinct items in our data sets\n",
    "    \n",
    "    input: pd.DataFrame, user_item_rating should have columns ['user_id', 'unique_isbn', 'book_rating']\n",
    "    output: pd.DataFrame, user_item_rating with new 'isbn' that is compressed\n",
    "    \"\"\"\n",
    "    # pivot\n",
    "    df_user_item = user_item_rating.pivot_table(index='user_id', columns='unique_isbn', values='book_rating')\n",
    "    # reset movieId\n",
    "    df_user_item = df_user_item.T.reset_index(drop=True).T\n",
    "    # undo pivot/melt - compress data frame\n",
    "    df_ratings_new = df_user_item \\\n",
    "        .reset_index('user_id') \\\n",
    "        .melt(\n",
    "            id_vars='user_id', \n",
    "            value_vars=df_user_item.columns,\n",
    "            var_name='unique_isbn',\n",
    "            value_name='book_rating')\n",
    "    # drop nan and final clean up\n",
    "    return df_ratings_new.dropna().sort_values(['user_id', 'unique_isbn']).reset_index(drop=True)"
   ]
  },
  {
   "cell_type": "code",
   "execution_count": 88,
   "metadata": {},
   "outputs": [
    {
     "name": "stdout",
     "output_type": "stream",
     "text": [
      "reduce item dimension before:\n"
     ]
    },
    {
     "data": {
      "text/plain": [
       "(103266, 3)"
      ]
     },
     "execution_count": 88,
     "metadata": {},
     "output_type": "execute_result"
    }
   ],
   "source": [
    "print('reduce item dimension before:')\n",
    "user_item_rating.shape"
   ]
  },
  {
   "cell_type": "code",
   "execution_count": 89,
   "metadata": {},
   "outputs": [
    {
     "name": "stdout",
     "output_type": "stream",
     "text": [
      "reduce item dimension after:\n"
     ]
    },
    {
     "data": {
      "text/plain": [
       "(102492, 3)"
      ]
     },
     "execution_count": 89,
     "metadata": {},
     "output_type": "execute_result"
    }
   ],
   "source": [
    "user_item_rating = reduce_item_dim(user_item_rating)\n",
    "print('reduce item dimension after:')\n",
    "user_item_rating.shape"
   ]
  },
  {
   "cell_type": "markdown",
   "metadata": {},
   "source": [
    "## 2. Split Data Into Train/Test"
   ]
  },
  {
   "cell_type": "code",
   "execution_count": 90,
   "metadata": {},
   "outputs": [
    {
     "name": "stdout",
     "output_type": "stream",
     "text": [
      "shape of training data set:\n",
      "(81993, 3)\n",
      "shape of test data set:\n",
      "(20499, 3)\n"
     ]
    }
   ],
   "source": [
    "df_train, df_test = train_test_split(user_item_rating, test_size=0.2, shuffle=True, random_state=99)\n",
    "print('shape of training data set:')\n",
    "print(df_train.shape)\n",
    "print('shape of test data set:')\n",
    "print(df_test.shape)"
   ]
  },
  {
   "cell_type": "markdown",
   "metadata": {},
   "source": [
    "## 3. Train Generalized Matrix Factorization and Test Model"
   ]
  },
  {
   "cell_type": "markdown",
   "metadata": {},
   "source": [
    "### define GMF model architeture and train routine"
   ]
  },
  {
   "cell_type": "code",
   "execution_count": 91,
   "metadata": {},
   "outputs": [],
   "source": [
    "def get_GMF_model(num_users, num_items, latent_dim, vu_reg, vi_reg):\n",
    "    \"\"\"\n",
    "    Build Generalized Matrix Factorization Model Topology\n",
    "    \n",
    "    Parameters\n",
    "    ----------\n",
    "    num_users: int, total number of users\n",
    "    num_items: int, total number of items\n",
    "    latent_dim: int, embedded dimension for user vector and item vector\n",
    "    vu_reg: float, L2 regularization of user embedded layer\n",
    "    vi_reg: float, L2 regularization of item embedded layer\n",
    "\n",
    "    Return\n",
    "    ------\n",
    "    A Keras Model with GMF model architeture\n",
    "    \"\"\"\n",
    "    # Input variables\n",
    "    user_input = Input(shape=(1,), dtype='int32', name='user_input')\n",
    "    item_input = Input(shape=(1,), dtype='int32', name='item_input')\n",
    "\n",
    "    MF_Embedding_User = Embedding(\n",
    "        input_dim=num_users + 1,\n",
    "        output_dim=latent_dim,\n",
    "        embeddings_initializer='uniform',\n",
    "        name='user_embedding',\n",
    "        embeddings_regularizer=l2(vu_reg),\n",
    "        input_length=1)\n",
    "    MF_Embedding_Item = Embedding(\n",
    "        input_dim=num_items + 1,\n",
    "        output_dim=latent_dim,\n",
    "        embeddings_initializer='uniform',\n",
    "        name='item_embedding',\n",
    "        embeddings_regularizer=l2(vi_reg),\n",
    "        input_length=1) \n",
    "    \n",
    "    # Crucial to flatten an embedding vector!\n",
    "    user_latent = Flatten()(MF_Embedding_User(user_input))\n",
    "    item_latent = Flatten()(MF_Embedding_Item(item_input))\n",
    "\n",
    "    # Element-wise product of user and item embeddings \n",
    "    predict_vector = Multiply()([user_latent, item_latent])\n",
    "    \n",
    "    # Final prediction layer\n",
    "    prediction = Dense(1, kernel_initializer='glorot_uniform', name='prediction')(predict_vector)\n",
    "    \n",
    "    # Stitch input and output\n",
    "    model = Model([user_input, item_input], prediction)\n",
    "    \n",
    "    return model\n",
    "\n",
    "\n",
    "def train_model(model, learner, batch_size, epochs, val_split, inputs, outputs):\n",
    "    \"\"\"\n",
    "    define training routine, train models and save best model\n",
    "    \n",
    "    Parameters\n",
    "    ----------\n",
    "    model: a Keras model\n",
    "    learner: str, one of ['sgd', 'adam', 'rmsprop', 'adagrad']\n",
    "    batch_size: num samples per update\n",
    "    epochs: num iterations\n",
    "    val_split: split ratio for validation data\n",
    "    inputs: inputs data\n",
    "    outputs: outputs data\n",
    "    \"\"\"\n",
    "    # add customized metric\n",
    "    def rmse(y_true, y_pred):\n",
    "        return K.sqrt(K.mean(K.square(y_true - y_pred)))\n",
    "    \n",
    "    # compile model\n",
    "    model.compile(optimizer=learner.lower(), loss='mean_squared_error', metrics=['mean_squared_error', rmse])\n",
    "    \n",
    "    # add call backs\n",
    "    early_stopper = EarlyStopping(monitor='val_rmse', patience=10, verbose=1)\n",
    "    model_saver = ModelCheckpoint(filepath='data/tmp/model.hdf5',\n",
    "                                  monitor='val_rmse',\n",
    "                                  save_best_only=True,\n",
    "                                  save_weights_only=True)\n",
    "    # train model\n",
    "    history = model.fit(inputs, outputs,\n",
    "                        batch_size=batch_size,\n",
    "                        epochs=epochs,\n",
    "                        validation_split=val_split,\n",
    "                        callbacks=[early_stopper, model_saver])\n",
    "    return history\n",
    "\n",
    "\n",
    "def load_trained_model(model, weights_path):\n",
    "    model.load_weights(weights_path)\n",
    "    return model"
   ]
  },
  {
   "cell_type": "markdown",
   "metadata": {},
   "source": [
    "### create GMF model"
   ]
  },
  {
   "cell_type": "code",
   "execution_count": 92,
   "metadata": {},
   "outputs": [
    {
     "name": "stdout",
     "output_type": "stream",
     "text": [
      "Model: \"model_1\"\n",
      "__________________________________________________________________________________________________\n",
      "Layer (type)                    Output Shape         Param #     Connected to                     \n",
      "==================================================================================================\n",
      "user_input (InputLayer)         [(None, 1)]          0                                            \n",
      "__________________________________________________________________________________________________\n",
      "item_input (InputLayer)         [(None, 1)]          0                                            \n",
      "__________________________________________________________________________________________________\n",
      "user_embedding (Embedding)      (None, 1, 10)        4500        user_input[0][0]                 \n",
      "__________________________________________________________________________________________________\n",
      "item_embedding (Embedding)      (None, 1, 10)        616450      item_input[0][0]                 \n",
      "__________________________________________________________________________________________________\n",
      "flatten_2 (Flatten)             (None, 10)           0           user_embedding[0][0]             \n",
      "__________________________________________________________________________________________________\n",
      "flatten_3 (Flatten)             (None, 10)           0           item_embedding[0][0]             \n",
      "__________________________________________________________________________________________________\n",
      "multiply_1 (Multiply)           (None, 10)           0           flatten_2[0][0]                  \n",
      "                                                                 flatten_3[0][0]                  \n",
      "__________________________________________________________________________________________________\n",
      "prediction (Dense)              (None, 1)            11          multiply_1[0][0]                 \n",
      "==================================================================================================\n",
      "Total params: 620,961\n",
      "Trainable params: 620,961\n",
      "Non-trainable params: 0\n",
      "__________________________________________________________________________________________________\n"
     ]
    }
   ],
   "source": [
    "GMF_model = get_GMF_model(num_users, num_items, 10, 0, 0)\n",
    "GMF_model.summary()"
   ]
  },
  {
   "cell_type": "markdown",
   "metadata": {},
   "source": [
    "### train GMF model"
   ]
  },
  {
   "cell_type": "code",
   "execution_count": 93,
   "metadata": {},
   "outputs": [
    {
     "ename": "ValueError",
     "evalue": "Failed to convert a NumPy array to a Tensor (Unsupported object type int).",
     "output_type": "error",
     "traceback": [
      "\u001b[1;31m---------------------------------------------------------------------------\u001b[0m",
      "\u001b[1;31mValueError\u001b[0m                                Traceback (most recent call last)",
      "\u001b[1;32m<ipython-input-93-8673d960fc7c>\u001b[0m in \u001b[0;36m<module>\u001b[1;34m\u001b[0m\n\u001b[0;32m      7\u001b[0m history = train_model(GMF_model, 'adam', BATCH_SIZE, EPOCHS, VAL_SPLIT, \n\u001b[0;32m      8\u001b[0m                       \u001b[0minputs\u001b[0m\u001b[1;33m=\u001b[0m\u001b[1;33m[\u001b[0m\u001b[0mdf_train\u001b[0m\u001b[1;33m.\u001b[0m\u001b[0muser_id\u001b[0m\u001b[1;33m.\u001b[0m\u001b[0mvalues\u001b[0m\u001b[1;33m,\u001b[0m \u001b[0mdf_train\u001b[0m\u001b[1;33m.\u001b[0m\u001b[0munique_isbn\u001b[0m\u001b[1;33m.\u001b[0m\u001b[0mvalues\u001b[0m\u001b[1;33m]\u001b[0m\u001b[1;33m,\u001b[0m\u001b[1;33m\u001b[0m\u001b[1;33m\u001b[0m\u001b[0m\n\u001b[1;32m----> 9\u001b[1;33m                       outputs=df_train.book_rating.values)\n\u001b[0m",
      "\u001b[1;32m<ipython-input-91-429abb74f7cc>\u001b[0m in \u001b[0;36mtrain_model\u001b[1;34m(model, learner, batch_size, epochs, val_split, inputs, outputs)\u001b[0m\n\u001b[0;32m     82\u001b[0m                         \u001b[0mepochs\u001b[0m\u001b[1;33m=\u001b[0m\u001b[0mepochs\u001b[0m\u001b[1;33m,\u001b[0m\u001b[1;33m\u001b[0m\u001b[1;33m\u001b[0m\u001b[0m\n\u001b[0;32m     83\u001b[0m                         \u001b[0mvalidation_split\u001b[0m\u001b[1;33m=\u001b[0m\u001b[0mval_split\u001b[0m\u001b[1;33m,\u001b[0m\u001b[1;33m\u001b[0m\u001b[1;33m\u001b[0m\u001b[0m\n\u001b[1;32m---> 84\u001b[1;33m                         callbacks=[early_stopper, model_saver])\n\u001b[0m\u001b[0;32m     85\u001b[0m     \u001b[1;32mreturn\u001b[0m \u001b[0mhistory\u001b[0m\u001b[1;33m\u001b[0m\u001b[1;33m\u001b[0m\u001b[0m\n\u001b[0;32m     86\u001b[0m \u001b[1;33m\u001b[0m\u001b[0m\n",
      "\u001b[1;32m~\\Documents\\Anaconda\\lib\\site-packages\\tensorflow_core\\python\\keras\\engine\\training.py\u001b[0m in \u001b[0;36mfit\u001b[1;34m(self, x, y, batch_size, epochs, verbose, callbacks, validation_split, validation_data, shuffle, class_weight, sample_weight, initial_epoch, steps_per_epoch, validation_steps, validation_freq, max_queue_size, workers, use_multiprocessing, **kwargs)\u001b[0m\n\u001b[0;32m    726\u001b[0m         \u001b[0mmax_queue_size\u001b[0m\u001b[1;33m=\u001b[0m\u001b[0mmax_queue_size\u001b[0m\u001b[1;33m,\u001b[0m\u001b[1;33m\u001b[0m\u001b[1;33m\u001b[0m\u001b[0m\n\u001b[0;32m    727\u001b[0m         \u001b[0mworkers\u001b[0m\u001b[1;33m=\u001b[0m\u001b[0mworkers\u001b[0m\u001b[1;33m,\u001b[0m\u001b[1;33m\u001b[0m\u001b[1;33m\u001b[0m\u001b[0m\n\u001b[1;32m--> 728\u001b[1;33m         use_multiprocessing=use_multiprocessing)\n\u001b[0m\u001b[0;32m    729\u001b[0m \u001b[1;33m\u001b[0m\u001b[0m\n\u001b[0;32m    730\u001b[0m   def evaluate(self,\n",
      "\u001b[1;32m~\\Documents\\Anaconda\\lib\\site-packages\\tensorflow_core\\python\\keras\\engine\\training_v2.py\u001b[0m in \u001b[0;36mfit\u001b[1;34m(self, model, x, y, batch_size, epochs, verbose, callbacks, validation_split, validation_data, shuffle, class_weight, sample_weight, initial_epoch, steps_per_epoch, validation_steps, validation_freq, **kwargs)\u001b[0m\n\u001b[0;32m    222\u001b[0m           \u001b[0mvalidation_data\u001b[0m\u001b[1;33m=\u001b[0m\u001b[0mvalidation_data\u001b[0m\u001b[1;33m,\u001b[0m\u001b[1;33m\u001b[0m\u001b[1;33m\u001b[0m\u001b[0m\n\u001b[0;32m    223\u001b[0m           \u001b[0mvalidation_steps\u001b[0m\u001b[1;33m=\u001b[0m\u001b[0mvalidation_steps\u001b[0m\u001b[1;33m,\u001b[0m\u001b[1;33m\u001b[0m\u001b[1;33m\u001b[0m\u001b[0m\n\u001b[1;32m--> 224\u001b[1;33m           distribution_strategy=strategy)\n\u001b[0m\u001b[0;32m    225\u001b[0m \u001b[1;33m\u001b[0m\u001b[0m\n\u001b[0;32m    226\u001b[0m       \u001b[0mtotal_samples\u001b[0m \u001b[1;33m=\u001b[0m \u001b[0m_get_total_number_of_samples\u001b[0m\u001b[1;33m(\u001b[0m\u001b[0mtraining_data_adapter\u001b[0m\u001b[1;33m)\u001b[0m\u001b[1;33m\u001b[0m\u001b[1;33m\u001b[0m\u001b[0m\n",
      "\u001b[1;32m~\\Documents\\Anaconda\\lib\\site-packages\\tensorflow_core\\python\\keras\\engine\\training_v2.py\u001b[0m in \u001b[0;36m_process_training_inputs\u001b[1;34m(model, x, y, batch_size, epochs, sample_weights, class_weights, steps_per_epoch, validation_split, validation_data, validation_steps, shuffle, distribution_strategy, max_queue_size, workers, use_multiprocessing)\u001b[0m\n\u001b[0;32m    526\u001b[0m         \u001b[0msample_weights\u001b[0m\u001b[1;33m=\u001b[0m\u001b[0msample_weights\u001b[0m\u001b[1;33m,\u001b[0m\u001b[1;33m\u001b[0m\u001b[1;33m\u001b[0m\u001b[0m\n\u001b[0;32m    527\u001b[0m         \u001b[0mshuffle\u001b[0m\u001b[1;33m=\u001b[0m\u001b[0mshuffle\u001b[0m\u001b[1;33m,\u001b[0m\u001b[1;33m\u001b[0m\u001b[1;33m\u001b[0m\u001b[0m\n\u001b[1;32m--> 528\u001b[1;33m         distribution_strategy=distribution_strategy)\n\u001b[0m\u001b[0;32m    529\u001b[0m     val_adapter = adapter_cls(val_x, val_y,\n\u001b[0;32m    530\u001b[0m                               \u001b[0msample_weights\u001b[0m\u001b[1;33m=\u001b[0m\u001b[0mval_sample_weights\u001b[0m\u001b[1;33m,\u001b[0m\u001b[1;33m\u001b[0m\u001b[1;33m\u001b[0m\u001b[0m\n",
      "\u001b[1;32m~\\Documents\\Anaconda\\lib\\site-packages\\tensorflow_core\\python\\keras\\engine\\data_adapter.py\u001b[0m in \u001b[0;36m__init__\u001b[1;34m(self, x, y, sample_weights, batch_size, epochs, steps, shuffle, **kwargs)\u001b[0m\n\u001b[0;32m    215\u001b[0m                **kwargs):\n\u001b[0;32m    216\u001b[0m     \u001b[0msuper\u001b[0m\u001b[1;33m(\u001b[0m\u001b[0mTensorLikeDataAdapter\u001b[0m\u001b[1;33m,\u001b[0m \u001b[0mself\u001b[0m\u001b[1;33m)\u001b[0m\u001b[1;33m.\u001b[0m\u001b[0m__init__\u001b[0m\u001b[1;33m(\u001b[0m\u001b[0mx\u001b[0m\u001b[1;33m,\u001b[0m \u001b[0my\u001b[0m\u001b[1;33m,\u001b[0m \u001b[1;33m**\u001b[0m\u001b[0mkwargs\u001b[0m\u001b[1;33m)\u001b[0m\u001b[1;33m\u001b[0m\u001b[1;33m\u001b[0m\u001b[0m\n\u001b[1;32m--> 217\u001b[1;33m     \u001b[0mx\u001b[0m \u001b[1;33m=\u001b[0m \u001b[0m_process_numpy_inputs\u001b[0m\u001b[1;33m(\u001b[0m\u001b[0mx\u001b[0m\u001b[1;33m)\u001b[0m\u001b[1;33m\u001b[0m\u001b[1;33m\u001b[0m\u001b[0m\n\u001b[0m\u001b[0;32m    218\u001b[0m     \u001b[0my\u001b[0m \u001b[1;33m=\u001b[0m \u001b[0m_process_numpy_inputs\u001b[0m\u001b[1;33m(\u001b[0m\u001b[0my\u001b[0m\u001b[1;33m)\u001b[0m\u001b[1;33m\u001b[0m\u001b[1;33m\u001b[0m\u001b[0m\n\u001b[0;32m    219\u001b[0m     \u001b[0msample_weights\u001b[0m \u001b[1;33m=\u001b[0m \u001b[0m_process_numpy_inputs\u001b[0m\u001b[1;33m(\u001b[0m\u001b[0msample_weights\u001b[0m\u001b[1;33m)\u001b[0m\u001b[1;33m\u001b[0m\u001b[1;33m\u001b[0m\u001b[0m\n",
      "\u001b[1;32m~\\Documents\\Anaconda\\lib\\site-packages\\tensorflow_core\\python\\keras\\engine\\data_adapter.py\u001b[0m in \u001b[0;36m_process_numpy_inputs\u001b[1;34m(inputs)\u001b[0m\n\u001b[0;32m    701\u001b[0m     \u001b[1;32mreturn\u001b[0m \u001b[0mx\u001b[0m\u001b[1;33m\u001b[0m\u001b[1;33m\u001b[0m\u001b[0m\n\u001b[0;32m    702\u001b[0m \u001b[1;33m\u001b[0m\u001b[0m\n\u001b[1;32m--> 703\u001b[1;33m   \u001b[0minputs\u001b[0m \u001b[1;33m=\u001b[0m \u001b[0mnest\u001b[0m\u001b[1;33m.\u001b[0m\u001b[0mmap_structure\u001b[0m\u001b[1;33m(\u001b[0m\u001b[0m_convert_non_tensor\u001b[0m\u001b[1;33m,\u001b[0m \u001b[0minputs\u001b[0m\u001b[1;33m)\u001b[0m\u001b[1;33m\u001b[0m\u001b[1;33m\u001b[0m\u001b[0m\n\u001b[0m\u001b[0;32m    704\u001b[0m   \u001b[1;31m# For more complicated structure, we only convert the out most list to tuple\u001b[0m\u001b[1;33m\u001b[0m\u001b[1;33m\u001b[0m\u001b[1;33m\u001b[0m\u001b[0m\n\u001b[0;32m    705\u001b[0m   \u001b[1;31m# since dataset will stack the list, but treat elements in the tuple as\u001b[0m\u001b[1;33m\u001b[0m\u001b[1;33m\u001b[0m\u001b[1;33m\u001b[0m\u001b[0m\n",
      "\u001b[1;32m~\\Documents\\Anaconda\\lib\\site-packages\\tensorflow_core\\python\\util\\nest.py\u001b[0m in \u001b[0;36mmap_structure\u001b[1;34m(func, *structure, **kwargs)\u001b[0m\n\u001b[0;32m    533\u001b[0m \u001b[1;33m\u001b[0m\u001b[0m\n\u001b[0;32m    534\u001b[0m   return pack_sequence_as(\n\u001b[1;32m--> 535\u001b[1;33m       \u001b[0mstructure\u001b[0m\u001b[1;33m[\u001b[0m\u001b[1;36m0\u001b[0m\u001b[1;33m]\u001b[0m\u001b[1;33m,\u001b[0m \u001b[1;33m[\u001b[0m\u001b[0mfunc\u001b[0m\u001b[1;33m(\u001b[0m\u001b[1;33m*\u001b[0m\u001b[0mx\u001b[0m\u001b[1;33m)\u001b[0m \u001b[1;32mfor\u001b[0m \u001b[0mx\u001b[0m \u001b[1;32min\u001b[0m \u001b[0mentries\u001b[0m\u001b[1;33m]\u001b[0m\u001b[1;33m,\u001b[0m\u001b[1;33m\u001b[0m\u001b[1;33m\u001b[0m\u001b[0m\n\u001b[0m\u001b[0;32m    536\u001b[0m       expand_composites=expand_composites)\n\u001b[0;32m    537\u001b[0m \u001b[1;33m\u001b[0m\u001b[0m\n",
      "\u001b[1;32m~\\Documents\\Anaconda\\lib\\site-packages\\tensorflow_core\\python\\util\\nest.py\u001b[0m in \u001b[0;36m<listcomp>\u001b[1;34m(.0)\u001b[0m\n\u001b[0;32m    533\u001b[0m \u001b[1;33m\u001b[0m\u001b[0m\n\u001b[0;32m    534\u001b[0m   return pack_sequence_as(\n\u001b[1;32m--> 535\u001b[1;33m       \u001b[0mstructure\u001b[0m\u001b[1;33m[\u001b[0m\u001b[1;36m0\u001b[0m\u001b[1;33m]\u001b[0m\u001b[1;33m,\u001b[0m \u001b[1;33m[\u001b[0m\u001b[0mfunc\u001b[0m\u001b[1;33m(\u001b[0m\u001b[1;33m*\u001b[0m\u001b[0mx\u001b[0m\u001b[1;33m)\u001b[0m \u001b[1;32mfor\u001b[0m \u001b[0mx\u001b[0m \u001b[1;32min\u001b[0m \u001b[0mentries\u001b[0m\u001b[1;33m]\u001b[0m\u001b[1;33m,\u001b[0m\u001b[1;33m\u001b[0m\u001b[1;33m\u001b[0m\u001b[0m\n\u001b[0m\u001b[0;32m    536\u001b[0m       expand_composites=expand_composites)\n\u001b[0;32m    537\u001b[0m \u001b[1;33m\u001b[0m\u001b[0m\n",
      "\u001b[1;32m~\\Documents\\Anaconda\\lib\\site-packages\\tensorflow_core\\python\\keras\\engine\\data_adapter.py\u001b[0m in \u001b[0;36m_convert_non_tensor\u001b[1;34m(x)\u001b[0m\n\u001b[0;32m    698\u001b[0m     \u001b[1;31m# `SparseTensors` can't be converted to `Tensor`.\u001b[0m\u001b[1;33m\u001b[0m\u001b[1;33m\u001b[0m\u001b[1;33m\u001b[0m\u001b[0m\n\u001b[0;32m    699\u001b[0m     \u001b[1;32mif\u001b[0m \u001b[0misinstance\u001b[0m\u001b[1;33m(\u001b[0m\u001b[0mx\u001b[0m\u001b[1;33m,\u001b[0m \u001b[0mnp\u001b[0m\u001b[1;33m.\u001b[0m\u001b[0mndarray\u001b[0m\u001b[1;33m)\u001b[0m\u001b[1;33m:\u001b[0m\u001b[1;33m\u001b[0m\u001b[1;33m\u001b[0m\u001b[0m\n\u001b[1;32m--> 700\u001b[1;33m       \u001b[1;32mreturn\u001b[0m \u001b[0mops\u001b[0m\u001b[1;33m.\u001b[0m\u001b[0mconvert_to_tensor\u001b[0m\u001b[1;33m(\u001b[0m\u001b[0mx\u001b[0m\u001b[1;33m)\u001b[0m\u001b[1;33m\u001b[0m\u001b[1;33m\u001b[0m\u001b[0m\n\u001b[0m\u001b[0;32m    701\u001b[0m     \u001b[1;32mreturn\u001b[0m \u001b[0mx\u001b[0m\u001b[1;33m\u001b[0m\u001b[1;33m\u001b[0m\u001b[0m\n\u001b[0;32m    702\u001b[0m \u001b[1;33m\u001b[0m\u001b[0m\n",
      "\u001b[1;32m~\\Documents\\Anaconda\\lib\\site-packages\\tensorflow_core\\python\\framework\\ops.py\u001b[0m in \u001b[0;36mconvert_to_tensor\u001b[1;34m(value, dtype, name, preferred_dtype, dtype_hint)\u001b[0m\n\u001b[0;32m   1182\u001b[0m   preferred_dtype = deprecation.deprecated_argument_lookup(\n\u001b[0;32m   1183\u001b[0m       \"dtype_hint\", dtype_hint, \"preferred_dtype\", preferred_dtype)\n\u001b[1;32m-> 1184\u001b[1;33m   \u001b[1;32mreturn\u001b[0m \u001b[0mconvert_to_tensor_v2\u001b[0m\u001b[1;33m(\u001b[0m\u001b[0mvalue\u001b[0m\u001b[1;33m,\u001b[0m \u001b[0mdtype\u001b[0m\u001b[1;33m,\u001b[0m \u001b[0mpreferred_dtype\u001b[0m\u001b[1;33m,\u001b[0m \u001b[0mname\u001b[0m\u001b[1;33m)\u001b[0m\u001b[1;33m\u001b[0m\u001b[1;33m\u001b[0m\u001b[0m\n\u001b[0m\u001b[0;32m   1185\u001b[0m \u001b[1;33m\u001b[0m\u001b[0m\n\u001b[0;32m   1186\u001b[0m \u001b[1;33m\u001b[0m\u001b[0m\n",
      "\u001b[1;32m~\\Documents\\Anaconda\\lib\\site-packages\\tensorflow_core\\python\\framework\\ops.py\u001b[0m in \u001b[0;36mconvert_to_tensor_v2\u001b[1;34m(value, dtype, dtype_hint, name)\u001b[0m\n\u001b[0;32m   1240\u001b[0m       \u001b[0mname\u001b[0m\u001b[1;33m=\u001b[0m\u001b[0mname\u001b[0m\u001b[1;33m,\u001b[0m\u001b[1;33m\u001b[0m\u001b[1;33m\u001b[0m\u001b[0m\n\u001b[0;32m   1241\u001b[0m       \u001b[0mpreferred_dtype\u001b[0m\u001b[1;33m=\u001b[0m\u001b[0mdtype_hint\u001b[0m\u001b[1;33m,\u001b[0m\u001b[1;33m\u001b[0m\u001b[1;33m\u001b[0m\u001b[0m\n\u001b[1;32m-> 1242\u001b[1;33m       as_ref=False)\n\u001b[0m\u001b[0;32m   1243\u001b[0m \u001b[1;33m\u001b[0m\u001b[0m\n\u001b[0;32m   1244\u001b[0m \u001b[1;33m\u001b[0m\u001b[0m\n",
      "\u001b[1;32m~\\Documents\\Anaconda\\lib\\site-packages\\tensorflow_core\\python\\framework\\ops.py\u001b[0m in \u001b[0;36minternal_convert_to_tensor\u001b[1;34m(value, dtype, name, as_ref, preferred_dtype, ctx, accept_composite_tensors)\u001b[0m\n\u001b[0;32m   1294\u001b[0m \u001b[1;33m\u001b[0m\u001b[0m\n\u001b[0;32m   1295\u001b[0m     \u001b[1;32mif\u001b[0m \u001b[0mret\u001b[0m \u001b[1;32mis\u001b[0m \u001b[1;32mNone\u001b[0m\u001b[1;33m:\u001b[0m\u001b[1;33m\u001b[0m\u001b[1;33m\u001b[0m\u001b[0m\n\u001b[1;32m-> 1296\u001b[1;33m       \u001b[0mret\u001b[0m \u001b[1;33m=\u001b[0m \u001b[0mconversion_func\u001b[0m\u001b[1;33m(\u001b[0m\u001b[0mvalue\u001b[0m\u001b[1;33m,\u001b[0m \u001b[0mdtype\u001b[0m\u001b[1;33m=\u001b[0m\u001b[0mdtype\u001b[0m\u001b[1;33m,\u001b[0m \u001b[0mname\u001b[0m\u001b[1;33m=\u001b[0m\u001b[0mname\u001b[0m\u001b[1;33m,\u001b[0m \u001b[0mas_ref\u001b[0m\u001b[1;33m=\u001b[0m\u001b[0mas_ref\u001b[0m\u001b[1;33m)\u001b[0m\u001b[1;33m\u001b[0m\u001b[1;33m\u001b[0m\u001b[0m\n\u001b[0m\u001b[0;32m   1297\u001b[0m \u001b[1;33m\u001b[0m\u001b[0m\n\u001b[0;32m   1298\u001b[0m     \u001b[1;32mif\u001b[0m \u001b[0mret\u001b[0m \u001b[1;32mis\u001b[0m \u001b[0mNotImplemented\u001b[0m\u001b[1;33m:\u001b[0m\u001b[1;33m\u001b[0m\u001b[1;33m\u001b[0m\u001b[0m\n",
      "\u001b[1;32m~\\Documents\\Anaconda\\lib\\site-packages\\tensorflow_core\\python\\framework\\tensor_conversion_registry.py\u001b[0m in \u001b[0;36m_default_conversion_function\u001b[1;34m(***failed resolving arguments***)\u001b[0m\n\u001b[0;32m     50\u001b[0m \u001b[1;32mdef\u001b[0m \u001b[0m_default_conversion_function\u001b[0m\u001b[1;33m(\u001b[0m\u001b[0mvalue\u001b[0m\u001b[1;33m,\u001b[0m \u001b[0mdtype\u001b[0m\u001b[1;33m,\u001b[0m \u001b[0mname\u001b[0m\u001b[1;33m,\u001b[0m \u001b[0mas_ref\u001b[0m\u001b[1;33m)\u001b[0m\u001b[1;33m:\u001b[0m\u001b[1;33m\u001b[0m\u001b[1;33m\u001b[0m\u001b[0m\n\u001b[0;32m     51\u001b[0m   \u001b[1;32mdel\u001b[0m \u001b[0mas_ref\u001b[0m  \u001b[1;31m# Unused.\u001b[0m\u001b[1;33m\u001b[0m\u001b[1;33m\u001b[0m\u001b[0m\n\u001b[1;32m---> 52\u001b[1;33m   \u001b[1;32mreturn\u001b[0m \u001b[0mconstant_op\u001b[0m\u001b[1;33m.\u001b[0m\u001b[0mconstant\u001b[0m\u001b[1;33m(\u001b[0m\u001b[0mvalue\u001b[0m\u001b[1;33m,\u001b[0m \u001b[0mdtype\u001b[0m\u001b[1;33m,\u001b[0m \u001b[0mname\u001b[0m\u001b[1;33m=\u001b[0m\u001b[0mname\u001b[0m\u001b[1;33m)\u001b[0m\u001b[1;33m\u001b[0m\u001b[1;33m\u001b[0m\u001b[0m\n\u001b[0m\u001b[0;32m     53\u001b[0m \u001b[1;33m\u001b[0m\u001b[0m\n\u001b[0;32m     54\u001b[0m \u001b[1;33m\u001b[0m\u001b[0m\n",
      "\u001b[1;32m~\\Documents\\Anaconda\\lib\\site-packages\\tensorflow_core\\python\\framework\\constant_op.py\u001b[0m in \u001b[0;36mconstant\u001b[1;34m(value, dtype, shape, name)\u001b[0m\n\u001b[0;32m    225\u001b[0m   \"\"\"\n\u001b[0;32m    226\u001b[0m   return _constant_impl(value, dtype, shape, name, verify_shape=False,\n\u001b[1;32m--> 227\u001b[1;33m                         allow_broadcast=True)\n\u001b[0m\u001b[0;32m    228\u001b[0m \u001b[1;33m\u001b[0m\u001b[0m\n\u001b[0;32m    229\u001b[0m \u001b[1;33m\u001b[0m\u001b[0m\n",
      "\u001b[1;32m~\\Documents\\Anaconda\\lib\\site-packages\\tensorflow_core\\python\\framework\\constant_op.py\u001b[0m in \u001b[0;36m_constant_impl\u001b[1;34m(value, dtype, shape, name, verify_shape, allow_broadcast)\u001b[0m\n\u001b[0;32m    233\u001b[0m   \u001b[0mctx\u001b[0m \u001b[1;33m=\u001b[0m \u001b[0mcontext\u001b[0m\u001b[1;33m.\u001b[0m\u001b[0mcontext\u001b[0m\u001b[1;33m(\u001b[0m\u001b[1;33m)\u001b[0m\u001b[1;33m\u001b[0m\u001b[1;33m\u001b[0m\u001b[0m\n\u001b[0;32m    234\u001b[0m   \u001b[1;32mif\u001b[0m \u001b[0mctx\u001b[0m\u001b[1;33m.\u001b[0m\u001b[0mexecuting_eagerly\u001b[0m\u001b[1;33m(\u001b[0m\u001b[1;33m)\u001b[0m\u001b[1;33m:\u001b[0m\u001b[1;33m\u001b[0m\u001b[1;33m\u001b[0m\u001b[0m\n\u001b[1;32m--> 235\u001b[1;33m     \u001b[0mt\u001b[0m \u001b[1;33m=\u001b[0m \u001b[0mconvert_to_eager_tensor\u001b[0m\u001b[1;33m(\u001b[0m\u001b[0mvalue\u001b[0m\u001b[1;33m,\u001b[0m \u001b[0mctx\u001b[0m\u001b[1;33m,\u001b[0m \u001b[0mdtype\u001b[0m\u001b[1;33m)\u001b[0m\u001b[1;33m\u001b[0m\u001b[1;33m\u001b[0m\u001b[0m\n\u001b[0m\u001b[0;32m    236\u001b[0m     \u001b[1;32mif\u001b[0m \u001b[0mshape\u001b[0m \u001b[1;32mis\u001b[0m \u001b[1;32mNone\u001b[0m\u001b[1;33m:\u001b[0m\u001b[1;33m\u001b[0m\u001b[1;33m\u001b[0m\u001b[0m\n\u001b[0;32m    237\u001b[0m       \u001b[1;32mreturn\u001b[0m \u001b[0mt\u001b[0m\u001b[1;33m\u001b[0m\u001b[1;33m\u001b[0m\u001b[0m\n",
      "\u001b[1;32m~\\Documents\\Anaconda\\lib\\site-packages\\tensorflow_core\\python\\framework\\constant_op.py\u001b[0m in \u001b[0;36mconvert_to_eager_tensor\u001b[1;34m(value, ctx, dtype)\u001b[0m\n\u001b[0;32m     94\u001b[0m       \u001b[0mdtype\u001b[0m \u001b[1;33m=\u001b[0m \u001b[0mdtypes\u001b[0m\u001b[1;33m.\u001b[0m\u001b[0mas_dtype\u001b[0m\u001b[1;33m(\u001b[0m\u001b[0mdtype\u001b[0m\u001b[1;33m)\u001b[0m\u001b[1;33m.\u001b[0m\u001b[0mas_datatype_enum\u001b[0m\u001b[1;33m\u001b[0m\u001b[1;33m\u001b[0m\u001b[0m\n\u001b[0;32m     95\u001b[0m   \u001b[0mctx\u001b[0m\u001b[1;33m.\u001b[0m\u001b[0mensure_initialized\u001b[0m\u001b[1;33m(\u001b[0m\u001b[1;33m)\u001b[0m\u001b[1;33m\u001b[0m\u001b[1;33m\u001b[0m\u001b[0m\n\u001b[1;32m---> 96\u001b[1;33m   \u001b[1;32mreturn\u001b[0m \u001b[0mops\u001b[0m\u001b[1;33m.\u001b[0m\u001b[0mEagerTensor\u001b[0m\u001b[1;33m(\u001b[0m\u001b[0mvalue\u001b[0m\u001b[1;33m,\u001b[0m \u001b[0mctx\u001b[0m\u001b[1;33m.\u001b[0m\u001b[0mdevice_name\u001b[0m\u001b[1;33m,\u001b[0m \u001b[0mdtype\u001b[0m\u001b[1;33m)\u001b[0m\u001b[1;33m\u001b[0m\u001b[1;33m\u001b[0m\u001b[0m\n\u001b[0m\u001b[0;32m     97\u001b[0m \u001b[1;33m\u001b[0m\u001b[0m\n\u001b[0;32m     98\u001b[0m \u001b[1;33m\u001b[0m\u001b[0m\n",
      "\u001b[1;31mValueError\u001b[0m: Failed to convert a NumPy array to a Tensor (Unsupported object type int)."
     ]
    }
   ],
   "source": [
    "# model config\n",
    "BATCH_SIZE = 64\n",
    "EPOCHS = 30\n",
    "VAL_SPLIT = 0.25\n",
    "\n",
    "# train model\n",
    "history = train_model(GMF_model, 'adam', BATCH_SIZE, EPOCHS, VAL_SPLIT, \n",
    "                      inputs=[df_train.user_id.values, df_train.unique_isbn.values],\n",
    "                      outputs=df_train.book_rating.values)"
   ]
  },
  {
   "cell_type": "code",
   "execution_count": null,
   "metadata": {},
   "outputs": [],
   "source": []
  },
  {
   "cell_type": "code",
   "execution_count": null,
   "metadata": {},
   "outputs": [],
   "source": []
  },
  {
   "cell_type": "code",
   "execution_count": null,
   "metadata": {},
   "outputs": [],
   "source": []
  }
 ],
 "metadata": {
  "kernelspec": {
   "display_name": "Python 3",
   "language": "python",
   "name": "python3"
  },
  "language_info": {
   "codemirror_mode": {
    "name": "ipython",
    "version": 3
   },
   "file_extension": ".py",
   "mimetype": "text/x-python",
   "name": "python",
   "nbconvert_exporter": "python",
   "pygments_lexer": "ipython3",
   "version": "3.7.4"
  }
 },
 "nbformat": 4,
 "nbformat_minor": 2
}
